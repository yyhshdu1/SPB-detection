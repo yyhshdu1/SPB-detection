{
 "cells": [
  {
   "cell_type": "code",
   "execution_count": 1,
   "id": "30683bdb-794f-4b5b-8886-acdb4dbecc26",
   "metadata": {
    "execution": {
     "iopub.execute_input": "2022-09-20T16:39:38.824251Z",
     "iopub.status.busy": "2022-09-20T16:39:38.823056Z",
     "iopub.status.idle": "2022-09-20T16:39:46.224496Z",
     "shell.execute_reply": "2022-09-20T16:39:46.223346Z"
    },
    "papermill": {
     "duration": 7.436251,
     "end_time": "2022-09-20T16:39:46.228496",
     "exception": false,
     "start_time": "2022-09-20T16:39:38.792245",
     "status": "completed"
    },
    "tags": []
   },
   "outputs": [],
   "source": [
    "import numpy as np\n",
    "import sympy as smp\n",
    "from centrex_TlF_hamiltonian import states, hamiltonian\n",
    "import centrex_TlF_couplings as couplings\n",
    "import centrex_TlF_lindblad as lindblad\n",
    "import matplotlib.pyplot as plt\n",
    "import scipy.constants as cst\n",
    "from labellines import labelLines\n",
    "import pickle\n",
    "import datetime\n",
    "import pandas as pd\n",
    "import statsmodels.api as sm"
   ]
  },
  {
   "cell_type": "code",
   "execution_count": 2,
   "id": "6464b098-2074-4110-b8b8-14cebdda5434",
   "metadata": {
    "execution": {
     "iopub.execute_input": "2022-09-20T16:39:46.267143Z",
     "iopub.status.busy": "2022-09-20T16:39:46.266141Z",
     "iopub.status.idle": "2022-09-20T16:39:46.285434Z",
     "shell.execute_reply": "2022-09-20T16:39:46.284314Z"
    },
    "papermill": {
     "duration": 0.03456,
     "end_time": "2022-09-20T16:39:46.287435",
     "exception": false,
     "start_time": "2022-09-20T16:39:46.252875",
     "status": "completed"
    },
    "tags": []
   },
   "outputs": [],
   "source": [
    "plt.rcParams.update({'font.size': 14})"
   ]
  },
  {
   "cell_type": "markdown",
   "id": "fe8ba123-fc89-410b-9cfc-7fb483147770",
   "metadata": {
    "papermill": {
     "duration": 0.007997,
     "end_time": "2022-09-20T16:39:46.303676",
     "exception": false,
     "start_time": "2022-09-20T16:39:46.295679",
     "status": "completed"
    },
    "tags": []
   },
   "source": [
    "# Setup\n",
    "\n",
    "## Papermill Parameters"
   ]
  },
  {
   "cell_type": "code",
   "execution_count": 3,
   "id": "5326320e-9595-4824-b9a0-e77d09ae9b0c",
   "metadata": {
    "execution": {
     "iopub.execute_input": "2022-09-20T16:39:46.323029Z",
     "iopub.status.busy": "2022-09-20T16:39:46.323029Z",
     "iopub.status.idle": "2022-09-20T16:39:46.347566Z",
     "shell.execute_reply": "2022-09-20T16:39:46.345564Z"
    },
    "papermill": {
     "duration": 0.039738,
     "end_time": "2022-09-20T16:39:46.351561",
     "exception": false,
     "start_time": "2022-09-20T16:39:46.311823",
     "status": "completed"
    },
    "tags": [
     "parameters"
    ]
   },
   "outputs": [],
   "source": [
    "# this cell is tagged parameters\n",
    "transition = 'couplings.OpticalTransition(couplings.OpticalTransitionType.R, 1, F1=1.5, F=2)'\n",
    "\n",
    "polarizations = \"[couplings.polarization_Z, couplings.polarization_X]\"\n",
    "\n",
    "powers = np.linspace(1-2e-3,1+2e-3,3)\n",
    "forward_velocities = np.arange(90, 300+4, 4)\n",
    "transverse_velocities = np.arange(-4.5, 4.5+0.2, 0.2)\n",
    "\n",
    "ωp = 0.1*hamiltonian.Γ\n",
    "ωphase = hamiltonian.Γ\n",
    "β = 3.8\n",
    "ωl = 2*np.pi*100e3\n",
    "\n",
    "dx = 2.54e-2 # dx of laser beam\n",
    "dy = 2*2.54e-2 # dy of laser beam\n",
    "\n",
    "initial_state = \"\"\"states.QuantumSelector(\n",
    "    J=1, F1=3/2, F=2, mF=2, electronic=states.ElectronicState.X\n",
    ")\"\"\"\n",
    "\n",
    "\n",
    "nprocs = 7 # number of processes to use\n",
    "\n",
    "μvy = 0\n",
    "σvy = 1.5\n",
    "\n",
    "now = datetime.datetime.now().strftime('%Y_%m_%d_%H_%M')"
   ]
  },
  {
   "cell_type": "code",
   "execution_count": 4,
   "id": "53da9875",
   "metadata": {
    "execution": {
     "iopub.execute_input": "2022-09-20T16:39:46.393028Z",
     "iopub.status.busy": "2022-09-20T16:39:46.392027Z",
     "iopub.status.idle": "2022-09-20T16:39:46.423606Z",
     "shell.execute_reply": "2022-09-20T16:39:46.422503Z"
    },
    "papermill": {
     "duration": 0.050666,
     "end_time": "2022-09-20T16:39:46.426693",
     "exception": false,
     "start_time": "2022-09-20T16:39:46.376027",
     "status": "completed"
    },
    "tags": [
     "injected-parameters"
    ]
   },
   "outputs": [],
   "source": [
    "# Parameters\n",
    "transition = (\n",
    "    \"couplings.OpticalTransition(couplings.OpticalTransitionType.R, 2, F1=2.5, F=3)\"\n",
    ")\n",
    "polarizations = \"[couplings.polarization_Z, couplings.polarization_X]\"\n",
    "powers = [\n",
    "    0.1,\n",
    "    0.2,\n",
    "    0.30000000000000004,\n",
    "    0.4,\n",
    "    0.5,\n",
    "    0.6,\n",
    "    0.7000000000000001,\n",
    "    0.8,\n",
    "    0.9,\n",
    "    1.0,\n",
    "    1.1,\n",
    "    1.2000000000000002,\n",
    "    1.3000000000000003,\n",
    "]\n",
    "forward_velocities = [\n",
    "    90,\n",
    "    94,\n",
    "    98,\n",
    "    102,\n",
    "    106,\n",
    "    110,\n",
    "    114,\n",
    "    118,\n",
    "    122,\n",
    "    126,\n",
    "    130,\n",
    "    134,\n",
    "    138,\n",
    "    142,\n",
    "    146,\n",
    "    150,\n",
    "    154,\n",
    "    158,\n",
    "    162,\n",
    "    166,\n",
    "    170,\n",
    "    174,\n",
    "    178,\n",
    "    182,\n",
    "    186,\n",
    "    190,\n",
    "    194,\n",
    "    198,\n",
    "    202,\n",
    "    206,\n",
    "    210,\n",
    "    214,\n",
    "    218,\n",
    "    222,\n",
    "    226,\n",
    "    230,\n",
    "    234,\n",
    "    238,\n",
    "    242,\n",
    "    246,\n",
    "    250,\n",
    "    254,\n",
    "    258,\n",
    "    262,\n",
    "    266,\n",
    "    270,\n",
    "    274,\n",
    "    278,\n",
    "    282,\n",
    "    286,\n",
    "    290,\n",
    "    294,\n",
    "    298,\n",
    "    302,\n",
    "]\n",
    "transverse_velocities = [\n",
    "    -4.5,\n",
    "    -4.3,\n",
    "    -4.1,\n",
    "    -3.8999999999999995,\n",
    "    -3.6999999999999993,\n",
    "    -3.499999999999999,\n",
    "    -3.299999999999999,\n",
    "    -3.0999999999999988,\n",
    "    -2.8999999999999986,\n",
    "    -2.6999999999999984,\n",
    "    -2.4999999999999982,\n",
    "    -2.299999999999998,\n",
    "    -2.099999999999998,\n",
    "    -1.8999999999999977,\n",
    "    -1.6999999999999975,\n",
    "    -1.4999999999999973,\n",
    "    -1.2999999999999972,\n",
    "    -1.099999999999997,\n",
    "    -0.8999999999999968,\n",
    "    -0.6999999999999966,\n",
    "    -0.49999999999999645,\n",
    "    -0.29999999999999627,\n",
    "    -0.09999999999999609,\n",
    "    0.10000000000000409,\n",
    "    0.30000000000000426,\n",
    "    0.5000000000000044,\n",
    "    0.7000000000000046,\n",
    "    0.9000000000000048,\n",
    "    1.100000000000005,\n",
    "    1.3000000000000052,\n",
    "    1.5000000000000053,\n",
    "    1.7000000000000055,\n",
    "    1.9000000000000057,\n",
    "    2.100000000000006,\n",
    "    2.300000000000006,\n",
    "    2.500000000000006,\n",
    "    2.7000000000000064,\n",
    "    2.9000000000000066,\n",
    "    3.1000000000000068,\n",
    "    3.300000000000007,\n",
    "    3.500000000000007,\n",
    "    3.7000000000000064,\n",
    "    3.9000000000000075,\n",
    "    4.1000000000000085,\n",
    "    4.300000000000008,\n",
    "    4.500000000000007,\n",
    "]\n",
    "ωp = 980176.9079200155\n",
    "ωphase = 9801769.079200154\n",
    "ωl = 628318.5307179586\n",
    "β = 3.8\n",
    "dx = 0.0254\n",
    "dy = 0.0508\n",
    "initial_state = \"states.QuantumSelector(\\n    J=2, F1=2.5, F=3, mF=2, electronic=states.ElectronicState.X\\n)\"\n",
    "nprocs = 7\n",
    "now = \"2022_09_20_10_45\"\n"
   ]
  },
  {
   "cell_type": "code",
   "execution_count": 5,
   "id": "f11745b5-2b57-4522-94f3-0e7ed0008919",
   "metadata": {
    "execution": {
     "iopub.execute_input": "2022-09-20T16:39:46.473437Z",
     "iopub.status.busy": "2022-09-20T16:39:46.473437Z",
     "iopub.status.idle": "2022-09-20T16:39:46.484782Z",
     "shell.execute_reply": "2022-09-20T16:39:46.483654Z"
    },
    "papermill": {
     "duration": 0.03158,
     "end_time": "2022-09-20T16:39:46.488782",
     "exception": false,
     "start_time": "2022-09-20T16:39:46.457202",
     "status": "completed"
    },
    "tags": []
   },
   "outputs": [],
   "source": [
    "# use eval to transfer the Transitions, QuantumSelectors and numpy arrays\n",
    "transition = eval(transition)\n",
    "polarizations = eval(polarizations)\n",
    "powers = np.asarray(powers)\n",
    "forward_velocities = np.asarray(forward_velocities)\n",
    "transverse_velocities = np.asarray(transverse_velocities)\n",
    "initial_state = eval(initial_state)"
   ]
  },
  {
   "cell_type": "markdown",
   "id": "986dceb3-556c-400c-80fe-d28a141ef679",
   "metadata": {
    "papermill": {
     "duration": 0.01237,
     "end_time": "2022-09-20T16:39:46.525564",
     "exception": false,
     "start_time": "2022-09-20T16:39:46.513194",
     "status": "completed"
    },
    "tags": []
   },
   "source": [
    "## Functions to convert Power to Rabi and vice-versa"
   ]
  },
  {
   "cell_type": "code",
   "execution_count": 6,
   "id": "6b5a008b-6e02-470e-92fe-75a678b0afe4",
   "metadata": {
    "execution": {
     "iopub.execute_input": "2022-09-20T16:39:46.567099Z",
     "iopub.status.busy": "2022-09-20T16:39:46.567099Z",
     "iopub.status.idle": "2022-09-20T16:39:46.592275Z",
     "shell.execute_reply": "2022-09-20T16:39:46.591272Z"
    },
    "papermill": {
     "duration": 0.060655,
     "end_time": "2022-09-20T16:39:46.595457",
     "exception": false,
     "start_time": "2022-09-20T16:39:46.534802",
     "status": "completed"
    },
    "tags": []
   },
   "outputs": [],
   "source": [
    "def power_from_rabi_rectangle(Ω: complex, main_coupling: complex, dx: float, dy: float, D: float = 2.6675506e-30) -> float:\n",
    "    E = Ω*cst.hbar / (main_coupling * D)\n",
    "    intensity = 1/2 * cst.c * cst.epsilon_0 * E ** 2\n",
    "    P = intensity * (dx * dy)\n",
    "    return P.real\n",
    "\n",
    "def rabi_from_power_rectangle(power: float, main_coupling: complex, dx: float, dy: float, D: float = 2.6675506e-30) -> complex:\n",
    "    intensity = power / (dx * dy)\n",
    "    E = np.sqrt(intensity*2 / (cst.c * cst.epsilon_0))\n",
    "    Ω = E * main_coupling * D / cst.hbar\n",
    "    return Ω"
   ]
  },
  {
   "cell_type": "markdown",
   "id": "9917fb56-2012-43e9-bf61-2ea680301913",
   "metadata": {
    "papermill": {
     "duration": 0.012245,
     "end_time": "2022-09-20T16:39:46.631171",
     "exception": false,
     "start_time": "2022-09-20T16:39:46.618926",
     "status": "completed"
    },
    "tags": []
   },
   "source": [
    "## Functions to convert transverse velocity to detuning"
   ]
  },
  {
   "cell_type": "code",
   "execution_count": 7,
   "id": "dbfc11c6-246d-436d-a344-5541aa7106e9",
   "metadata": {
    "execution": {
     "iopub.execute_input": "2022-09-20T16:39:46.678070Z",
     "iopub.status.busy": "2022-09-20T16:39:46.677070Z",
     "iopub.status.idle": "2022-09-20T16:39:46.699550Z",
     "shell.execute_reply": "2022-09-20T16:39:46.698548Z"
    },
    "papermill": {
     "duration": 0.039879,
     "end_time": "2022-09-20T16:39:46.701551",
     "exception": false,
     "start_time": "2022-09-20T16:39:46.661672",
     "status": "completed"
    },
    "tags": []
   },
   "outputs": [],
   "source": [
    "def doppler_shift(velocity, frequency):\n",
    "    \"\"\"calculate the doppler shifted frequency\n",
    "    Args:\n",
    "        velocity (float): velocity [m/s]\n",
    "        frequency (float): frequency [Hz]\n",
    "    Returns:\n",
    "        float: doppler shifted frequency in Hz\n",
    "    \"\"\"\n",
    "    return frequency * (1 + velocity / cst.c)\n",
    "\n",
    "\n",
    "def velocity_to_detuning(velocity, frequency=1.103e15, Γ=2*np.pi*1.56e6):\n",
    "    \"\"\"convert velocity to detuning in units of Γ\n",
    "    Args:\n",
    "        velocity (float): velocity [m/s]\n",
    "        frequency (float): frequency [Hz]\n",
    "        Γ (float): Γ [2π⋅Hz]\n",
    "    Returns:\n",
    "        float: detuning in units of Γ\n",
    "    \"\"\"\n",
    "    return (doppler_shift(velocity, frequency) - frequency) * 2 * np.pi / Γ"
   ]
  },
  {
   "cell_type": "markdown",
   "id": "def8b095-8fea-41f8-a4ba-4478b5eba23f",
   "metadata": {
    "papermill": {
     "duration": 0.012235,
     "end_time": "2022-09-20T16:39:46.724988",
     "exception": false,
     "start_time": "2022-09-20T16:39:46.712753",
     "status": "completed"
    },
    "tags": []
   },
   "source": [
    "## Function to convert diagonal indices to flattened"
   ]
  },
  {
   "cell_type": "code",
   "execution_count": 8,
   "id": "28387cbc-78e1-4d8e-a9ed-fd1f46abc8a3",
   "metadata": {
    "execution": {
     "iopub.execute_input": "2022-09-20T16:39:46.750363Z",
     "iopub.status.busy": "2022-09-20T16:39:46.750363Z",
     "iopub.status.idle": "2022-09-20T16:39:46.776026Z",
     "shell.execute_reply": "2022-09-20T16:39:46.774920Z"
    },
    "papermill": {
     "duration": 0.041829,
     "end_time": "2022-09-20T16:39:46.779024",
     "exception": false,
     "start_time": "2022-09-20T16:39:46.737195",
     "status": "completed"
    },
    "tags": []
   },
   "outputs": [],
   "source": [
    "def get_diagonal_indices_flattened(size, states = None, mode = 'python'):\n",
    "    if states is None:\n",
    "        indices = [i+size*i for i in range(size)]\n",
    "    else:\n",
    "        indices = [i+size*i for i in states]\n",
    "    if mode == 'julia':\n",
    "        return [i+1 for i in indices]\n",
    "    elif mode == 'python':\n",
    "        return indices"
   ]
  },
  {
   "cell_type": "markdown",
   "id": "a3f240b4-d0f4-49c6-8625-f7a06d0020ae",
   "metadata": {
    "papermill": {
     "duration": 0.011254,
     "end_time": "2022-09-20T16:39:46.811763",
     "exception": false,
     "start_time": "2022-09-20T16:39:46.800509",
     "status": "completed"
    },
    "tags": []
   },
   "source": [
    "## System Parameters"
   ]
  },
  {
   "cell_type": "code",
   "execution_count": 9,
   "id": "736dcbe6-aad5-4659-8cc5-b258e4c856d7",
   "metadata": {
    "execution": {
     "iopub.execute_input": "2022-09-20T16:39:46.830257Z",
     "iopub.status.busy": "2022-09-20T16:39:46.829260Z",
     "iopub.status.idle": "2022-09-20T16:39:46.837550Z",
     "shell.execute_reply": "2022-09-20T16:39:46.836548Z"
    },
    "papermill": {
     "duration": 0.018525,
     "end_time": "2022-09-20T16:39:46.838554",
     "exception": false,
     "start_time": "2022-09-20T16:39:46.820029",
     "status": "completed"
    },
    "tags": []
   },
   "outputs": [],
   "source": [
    "syspars = lindblad.SystemParameters(nprocs = nprocs, Γ=hamiltonian.Γ)"
   ]
  },
  {
   "cell_type": "markdown",
   "id": "5011b5f3-cc7e-4757-97d0-8459799eb101",
   "metadata": {
    "papermill": {
     "duration": 0.010282,
     "end_time": "2022-09-20T16:39:46.858037",
     "exception": false,
     "start_time": "2022-09-20T16:39:46.847755",
     "status": "completed"
    },
    "tags": []
   },
   "source": [
    "## Vibrational Decay Channels"
   ]
  },
  {
   "cell_type": "code",
   "execution_count": 10,
   "id": "596675aa-3994-4c12-85cf-38e1ec61d952",
   "metadata": {
    "execution": {
     "iopub.execute_input": "2022-09-20T16:39:46.903921Z",
     "iopub.status.busy": "2022-09-20T16:39:46.903921Z",
     "iopub.status.idle": "2022-09-20T16:39:46.913921Z",
     "shell.execute_reply": "2022-09-20T16:39:46.913921Z"
    },
    "papermill": {
     "duration": 0.029393,
     "end_time": "2022-09-20T16:39:46.918066",
     "exception": false,
     "start_time": "2022-09-20T16:39:46.888673",
     "status": "completed"
    },
    "tags": []
   },
   "outputs": [],
   "source": [
    "decay_channels = [\n",
    "    lindblad.DecayChannel(\n",
    "        ground = 1*states.CoupledBasisState(None, None, None, None, None, None, v = \"other\", P=+1),\n",
    "        excited = transition.qn_select_excited,\n",
    "        branching = 1e-2,\n",
    "        description = \"vibrational decay\"\n",
    "    )\n",
    "]"
   ]
  },
  {
   "cell_type": "markdown",
   "id": "b000c31f-8a83-4ba7-8738-102c3b6a7ea0",
   "metadata": {
    "papermill": {
     "duration": 0.012218,
     "end_time": "2022-09-20T16:39:46.951708",
     "exception": false,
     "start_time": "2022-09-20T16:39:46.939490",
     "status": "completed"
    },
    "tags": []
   },
   "source": [
    "## Odepars"
   ]
  },
  {
   "cell_type": "code",
   "execution_count": 11,
   "id": "57402ccf-9aff-49b3-ad15-e9306213ad4c",
   "metadata": {
    "execution": {
     "iopub.execute_input": "2022-09-20T16:39:46.999507Z",
     "iopub.status.busy": "2022-09-20T16:39:46.998506Z",
     "iopub.status.idle": "2022-09-20T16:39:47.037307Z",
     "shell.execute_reply": "2022-09-20T16:39:47.036301Z"
    },
    "papermill": {
     "duration": 0.077248,
     "end_time": "2022-09-20T16:39:47.041301",
     "exception": false,
     "start_time": "2022-09-20T16:39:46.964053",
     "status": "completed"
    },
    "tags": []
   },
   "outputs": [],
   "source": [
    "v_to_Γ = velocity_to_detuning(1)*syspars.Γ\n",
    "\n",
    "odepars = lindblad.odeParameters(\n",
    "    Ω0 = \"Ωl0 * square_wave(t, ωl, 0.) * phase_modulation(t, β, ωphase)\",\n",
    "    Ωl0     = 1*syspars.Γ,    # Rabi frequency of the laser [rad/s]\n",
    "    δ0      = f\"vy*{v_to_Γ}\",              # detuning of the laser [rad/s]\n",
    "\n",
    "    # laser polarization switching\n",
    "    ωp = ωp,           # polarization switching frequency [rad/s]\n",
    "    PZ0 = \"square_wave(t, ωp, 0.)\",\n",
    "    PX0 = f\"square_wave(t, ωp, {np.pi})\",\n",
    "    β = β,\n",
    "    ωphase = ωphase,\n",
    "    ωl = ωl,\n",
    "    \n",
    "    # molecules\n",
    "    y0 = 0,                   # molecule start y position [m]\n",
    "    vz = 184,                 # longitudinal molecular velocity [m/s]\n",
    "    vy = 0,                   # molecule vy [m/s]\n",
    ")"
   ]
  },
  {
   "cell_type": "markdown",
   "id": "63c80282-f1a0-459c-9db1-5178ae30db66",
   "metadata": {
    "papermill": {
     "duration": 0.012171,
     "end_time": "2022-09-20T16:39:47.077114",
     "exception": false,
     "start_time": "2022-09-20T16:39:47.064943",
     "status": "completed"
    },
    "tags": []
   },
   "source": [
    "## Generate the System"
   ]
  },
  {
   "cell_type": "code",
   "execution_count": 12,
   "id": "54012ca6-2e4b-4335-a114-4a8a976d934a",
   "metadata": {
    "execution": {
     "iopub.execute_input": "2022-09-20T16:39:47.096118Z",
     "iopub.status.busy": "2022-09-20T16:39:47.095114Z",
     "iopub.status.idle": "2022-09-20T16:42:14.616612Z",
     "shell.execute_reply": "2022-09-20T16:42:14.616612Z"
    },
    "papermill": {
     "duration": 147.533502,
     "end_time": "2022-09-20T16:42:14.618616",
     "exception": false,
     "start_time": "2022-09-20T16:39:47.085114",
     "status": "completed"
    },
    "tags": []
   },
   "outputs": [
    {
     "name": "stderr",
     "output_type": "stream",
     "text": [
      "INFO:centrex_TlF_lindblad.utils_setup:generate_OBE_system: 1/6 -> Generating the reduced Hamiltonian\n"
     ]
    },
    {
     "name": "stderr",
     "output_type": "stream",
     "text": [
      "INFO:centrex_TlF_lindblad.utils_setup:generate_OBE_system: 2/6 -> Generating the couplings corresponding to the transitions\n"
     ]
    },
    {
     "name": "stderr",
     "output_type": "stream",
     "text": [
      "INFO:centrex_TlF_lindblad.utils_setup:generate_OBE_system: 3/6 -> Generating the symbolic Hamiltonian\n"
     ]
    },
    {
     "name": "stderr",
     "output_type": "stream",
     "text": [
      "INFO:centrex_TlF_lindblad.utils_setup:generate_OBE_system: 4/6 -> Generating the collapse matrices\n"
     ]
    },
    {
     "name": "stdout",
     "output_type": "stream",
     "text": [
      "Warning: Branching ratio sum > 1, difference = 2.22e-16\n"
     ]
    },
    {
     "name": "stderr",
     "output_type": "stream",
     "text": [
      "INFO:centrex_TlF_lindblad.utils_setup:generate_OBE_system: 5/6 -> Transforming the Hamiltonian and collapse matrices into a symbolic system of equations\n"
     ]
    },
    {
     "name": "stderr",
     "output_type": "stream",
     "text": [
      "INFO:centrex_TlF_lindblad.utils_setup:generate_OBE_system: 6/6 -> Generating Julia code representing the system of equations\n"
     ]
    },
    {
     "name": "stderr",
     "output_type": "stream",
     "text": [
      "INFO:centrex_TlF_lindblad.utils_setup:setup_OBE_system_julia: 1/3 -> Generating the preamble\n"
     ]
    },
    {
     "name": "stderr",
     "output_type": "stream",
     "text": [
      "INFO:centrex_TlF_lindblad.utils_setup:setup_OBE_system_julia: 2/3 -> Initializing Julia on 7 cores\n"
     ]
    },
    {
     "name": "stderr",
     "output_type": "stream",
     "text": [
      "INFO:centrex_TlF_lindblad.utils_setup:setup_OBE_system_julia: 3/3 -> Defining the ODE equation and parameters in Julia\n"
     ]
    },
    {
     "name": "stdout",
     "output_type": "stream",
     "text": [
      "Initialized Julia with 7 processes\n"
     ]
    }
   ],
   "source": [
    "transition_selectors = couplings.generate_transition_selectors([transition], [polarizations])\n",
    "\n",
    "obe_system = lindblad.setup_OBE_system_julia_transitions(\n",
    "    syspars, odepars, [transition], transition_selectors, verbose=True, full_output=True,\n",
    "    decay_channels = decay_channels\n",
    ")"
   ]
  },
  {
   "cell_type": "markdown",
   "id": "05af1f73-6664-408d-8df7-dbb5ea691b7c",
   "metadata": {
    "papermill": {
     "duration": 0.020459,
     "end_time": "2022-09-20T16:42:14.649288",
     "exception": false,
     "start_time": "2022-09-20T16:42:14.628829",
     "status": "completed"
    },
    "tags": []
   },
   "source": [
    "## Calculate Rabi rate for 1 W"
   ]
  },
  {
   "cell_type": "code",
   "execution_count": 13,
   "id": "eb02bc1d-f057-4249-986d-a4ecbc016872",
   "metadata": {
    "execution": {
     "iopub.execute_input": "2022-09-20T16:42:14.690831Z",
     "iopub.status.busy": "2022-09-20T16:42:14.690831Z",
     "iopub.status.idle": "2022-09-20T16:42:14.709060Z",
     "shell.execute_reply": "2022-09-20T16:42:14.709060Z"
    },
    "papermill": {
     "duration": 0.036333,
     "end_time": "2022-09-20T16:42:14.711061",
     "exception": false,
     "start_time": "2022-09-20T16:42:14.674728",
     "status": "completed"
    },
    "tags": []
   },
   "outputs": [],
   "source": [
    "rabi_1W = rabi_from_power_rectangle(1, np.abs(obe_system.couplings[0].main_coupling), dx, dy)"
   ]
  },
  {
   "cell_type": "markdown",
   "id": "694e8c5b-48e7-4f1e-8745-5e1e7b3fd401",
   "metadata": {
    "papermill": {
     "duration": 0.009156,
     "end_time": "2022-09-20T16:42:14.729293",
     "exception": false,
     "start_time": "2022-09-20T16:42:14.720137",
     "status": "completed"
    },
    "tags": []
   },
   "source": [
    "# Single trajectory run"
   ]
  },
  {
   "cell_type": "code",
   "execution_count": 14,
   "id": "6649a1fa-a71e-4d56-823f-05c381288bbd",
   "metadata": {
    "execution": {
     "iopub.execute_input": "2022-09-20T16:42:14.749496Z",
     "iopub.status.busy": "2022-09-20T16:42:14.748496Z",
     "iopub.status.idle": "2022-09-20T16:42:47.499699Z",
     "shell.execute_reply": "2022-09-20T16:42:47.498690Z"
    },
    "papermill": {
     "duration": 32.76333,
     "end_time": "2022-09-20T16:42:47.501692",
     "exception": false,
     "start_time": "2022-09-20T16:42:14.738362",
     "status": "completed"
    },
    "tags": []
   },
   "outputs": [
    {
     "name": "stdout",
     "output_type": "stream",
     "text": [
      "OpticalTransition(R(2) F1'=5/2 F'=3) => 2.60 photons\n"
     ]
    },
    {
     "data": {
      "text/html": [
       "<div>\n",
       "<style scoped>\n",
       "    .dataframe tbody tr th:only-of-type {\n",
       "        vertical-align: middle;\n",
       "    }\n",
       "\n",
       "    .dataframe tbody tr th {\n",
       "        vertical-align: top;\n",
       "    }\n",
       "\n",
       "    .dataframe thead th {\n",
       "        text-align: right;\n",
       "    }\n",
       "</style>\n",
       "<table border=\"1\" class=\"dataframe\">\n",
       "  <thead>\n",
       "    <tr style=\"text-align: right;\">\n",
       "      <th></th>\n",
       "      <th>|B, J = 3, F₁ = 5/2, F = 3&gt;</th>\n",
       "    </tr>\n",
       "    <tr>\n",
       "      <th>states</th>\n",
       "      <th></th>\n",
       "    </tr>\n",
       "  </thead>\n",
       "  <tbody>\n",
       "    <tr>\n",
       "      <th>|X, J = 2&gt;</th>\n",
       "      <td>0.625776</td>\n",
       "    </tr>\n",
       "    <tr>\n",
       "      <th>|X, J = 4&gt;</th>\n",
       "      <td>0.374224</td>\n",
       "    </tr>\n",
       "  </tbody>\n",
       "</table>\n",
       "</div>"
      ],
      "text/plain": [
       "            |B, J = 3, F₁ = 5/2, F = 3>\n",
       "states                                 \n",
       "|X, J = 2>                     0.625776\n",
       "|X, J = 4>                     0.374224"
      ]
     },
     "metadata": {},
     "output_type": "display_data"
    },
    {
     "data": {
      "image/png": "[encoded data removed]",
      "text/plain": [
       "<Figure size 576x360 with 1 Axes>"
      ]
     },
     "metadata": {
      "needs_background": "light"
     },
     "output_type": "display_data"
    }
   ],
   "source": [
    "indices_excited = transition.qn_select_excited.get_indices(obe_system.QN)\n",
    "\n",
    "ρ = states.population.generate_population_states(\n",
    "    initial_state.get_indices(obe_system.QN), \n",
    "    len(obe_system.QN)\n",
    ")\n",
    "\n",
    "df = couplings.generate_br_dataframe(obe_system.ground, obe_system.excited, group_ground='J')\n",
    "\n",
    "obe_system.Ωl0 = rabi_1W\n",
    "\n",
    "result_single = lindblad.do_simulation_single(odepars, (0,200e-6), ρ)\n",
    "\n",
    "fig, ax = plt.subplots(figsize = (8,5)) \n",
    "ax.plot(result_single.t*1e6, result_single.y.T, label = np.arange(len(result_single.y)));\n",
    "ax.set_xlabel('time [μs]')\n",
    "ax.set_ylabel('population')\n",
    "\n",
    "ax.set_title(f'{transition} @ 1W 2\" x 1\"')\n",
    "\n",
    "labelLines(ax.get_lines(), zorder = 2.5, align = False, fontsize = 14)\n",
    "\n",
    "ax.grid(True)\n",
    "\n",
    "print(f\"{transition} => {np.trapz(result_single.y[indices_excited].sum(axis=0), x=result_single.t)*hamiltonian.Γ:.2f} photons\")\n",
    "display(df)"
   ]
  },
  {
   "cell_type": "markdown",
   "id": "28bd9126-4669-430f-b45c-b1c39f90f65f",
   "metadata": {
    "papermill": {
     "duration": 0.010129,
     "end_time": "2022-09-20T16:42:47.521942",
     "exception": false,
     "start_time": "2022-09-20T16:42:47.511813",
     "status": "completed"
    },
    "tags": []
   },
   "source": [
    "# Scan Power, Detuning and forward velocity"
   ]
  },
  {
   "cell_type": "code",
   "execution_count": 15,
   "id": "161fba7e-2c28-4da8-a0bf-97d8a08904ad",
   "metadata": {
    "execution": {
     "iopub.execute_input": "2022-09-20T16:42:47.549404Z",
     "iopub.status.busy": "2022-09-20T16:42:47.548405Z",
     "iopub.status.idle": "2022-09-20T16:42:47.560571Z",
     "shell.execute_reply": "2022-09-20T16:42:47.559566Z"
    },
    "papermill": {
     "duration": 0.02945,
     "end_time": "2022-09-20T16:42:47.563731",
     "exception": false,
     "start_time": "2022-09-20T16:42:47.534281",
     "status": "completed"
    },
    "tags": []
   },
   "outputs": [],
   "source": [
    "rabi_rates = rabi_from_power_rectangle(powers, np.abs(obe_system.couplings[0].main_coupling), dx, dy)\n",
    "\n",
    "scan_parameters = ['Ωl0','vy','vz']\n",
    "scan_values = [rabi_rates, transverse_velocities, forward_velocities]"
   ]
  },
  {
   "cell_type": "code",
   "execution_count": 16,
   "id": "e90ef3c8-8076-4686-9327-672d0b03fd3b",
   "metadata": {
    "execution": {
     "iopub.execute_input": "2022-09-20T16:42:47.598158Z",
     "iopub.status.busy": "2022-09-20T16:42:47.598158Z",
     "iopub.status.idle": "2022-09-20T16:42:47.621510Z",
     "shell.execute_reply": "2022-09-20T16:42:47.620509Z"
    },
    "papermill": {
     "duration": 0.038575,
     "end_time": "2022-09-20T16:42:47.623591",
     "exception": false,
     "start_time": "2022-09-20T16:42:47.585016",
     "status": "completed"
    },
    "tags": []
   },
   "outputs": [],
   "source": [
    "photon_func = lindblad.setup_state_integral_calculation_state_idxs(\n",
    "    nphotons = True\n",
    ")"
   ]
  },
  {
   "cell_type": "code",
   "execution_count": 17,
   "id": "66e306e3-6a5c-43ac-b2f7-aaf87993728a",
   "metadata": {
    "execution": {
     "iopub.execute_input": "2022-09-20T16:42:47.652839Z",
     "iopub.status.busy": "2022-09-20T16:42:47.652839Z",
     "iopub.status.idle": "2022-09-20T16:42:48.104205Z",
     "shell.execute_reply": "2022-09-20T16:42:48.103206Z"
    },
    "papermill": {
     "duration": 0.468562,
     "end_time": "2022-09-20T16:42:48.106310",
     "exception": false,
     "start_time": "2022-09-20T16:42:47.637748",
     "status": "completed"
    },
    "tags": []
   },
   "outputs": [],
   "source": [
    "callback = lindblad.setup_discrete_callback_terminate(\n",
    "    odepars,\n",
    "    f\"vz*t > {dx}\"\n",
    ")"
   ]
  },
  {
   "cell_type": "code",
   "execution_count": 18,
   "id": "2a288f68-42ed-4c8b-9be8-2d2bbcf92330",
   "metadata": {
    "execution": {
     "iopub.execute_input": "2022-09-20T16:42:48.130460Z",
     "iopub.status.busy": "2022-09-20T16:42:48.130460Z",
     "iopub.status.idle": "2022-09-20T16:42:49.162628Z",
     "shell.execute_reply": "2022-09-20T16:42:49.161626Z"
    },
    "papermill": {
     "duration": 1.046377,
     "end_time": "2022-09-20T16:42:49.163773",
     "exception": false,
     "start_time": "2022-09-20T16:42:48.117396",
     "status": "completed"
    },
    "tags": []
   },
   "outputs": [],
   "source": [
    "ensemble_problem = lindblad.setup_problem_parameter_scan(\n",
    "    odepars,\n",
    "    ρ = ρ,\n",
    "    tspan = (0,1_000e-6),\n",
    "    parameters = scan_parameters,\n",
    "    values = scan_values,\n",
    "    dimensions = 2,\n",
    "    output_func = photon_func,\n",
    ")"
   ]
  },
  {
   "cell_type": "code",
   "execution_count": null,
   "id": "ee699c8b-9384-4c63-831c-0b67b18b8774",
   "metadata": {
    "papermill": {
     "duration": null,
     "end_time": null,
     "exception": false,
     "start_time": "2022-09-20T16:42:49.178041",
     "status": "running"
    },
    "tags": []
   },
   "outputs": [],
   "source": [
    "%%time\n",
    "lindblad.solve_problem_parameter_scan_progress(\n",
    "    callback = callback,\n",
    "    ensemble_problem_name=ensemble_problem,\n",
    "    output_func=photon_func,\n",
    "    save_idxs = get_diagonal_indices_flattened(len(obe_system.QN), states = indices_excited, mode = 'julia')\n",
    ")"
   ]
  },
  {
   "cell_type": "code",
   "execution_count": null,
   "id": "6f2e2216-fdfa-41cc-b2b5-5ae2f35497c0",
   "metadata": {
    "papermill": {
     "duration": null,
     "end_time": null,
     "exception": null,
     "start_time": null,
     "status": "pending"
    },
    "tags": []
   },
   "outputs": [],
   "source": [
    "results_power_detuning_velocity_scan = lindblad.get_results_parameter_scan()\n",
    "X,Y,Z = np.meshgrid(*scan_values)\n",
    "results_power_detuning_velocity_scan = results_power_detuning_velocity_scan.reshape(Y.T.shape).T"
   ]
  },
  {
   "cell_type": "markdown",
   "id": "d5bd8781-7d5c-4fa3-a1c5-162e022b8086",
   "metadata": {
    "papermill": {
     "duration": null,
     "end_time": null,
     "exception": null,
     "start_time": null,
     "status": "pending"
    },
    "tags": []
   },
   "source": [
    "## Save simulation data"
   ]
  },
  {
   "cell_type": "code",
   "execution_count": null,
   "id": "b83b18a0-0905-498b-8466-60156426374b",
   "metadata": {
    "papermill": {
     "duration": null,
     "end_time": null,
     "exception": null,
     "start_time": null,
     "status": "pending"
    },
    "tags": []
   },
   "outputs": [],
   "source": [
    "transition_name = (\n",
    "    f\"{transition.t.name}{transition.J_ground}_F1_{int(transition.F1*2)}_2_F_{transition.F}\"\n",
    ")\n",
    "\n",
    "fname = f\"{transition_name}_J_init_{initial_state.J}_F1init_{initial_state.F1}_Finit_{initial_state.F}_mFinit_{initial_state.mF}_scan_power_detuning_velocity_with_phase_mod_{now}\"\n",
    "\n",
    "with open(f\"{fname}.pkl\", 'wb') as f:\n",
    "    pickle.dump(\n",
    "        {\n",
    "            'Ωl': X,\n",
    "            'power': power_from_rabi_rectangle(X, np.abs(obe_system.couplings[0].main_coupling), dx, dy),\n",
    "            'vy': Y,\n",
    "            'vz': Z,\n",
    "            'photons': results_power_detuning_velocity_scan,\n",
    "            'main coupling': np.abs(obe_system.couplings[0].main_coupling),\n",
    "            'odepars': str(odepars),\n",
    "            'initial state': str(initial_state),\n",
    "        },\n",
    "        f\n",
    "    )"
   ]
  },
  {
   "cell_type": "code",
   "execution_count": null,
   "id": "374ccc8d-9408-4f22-a052-e494432b7a4a",
   "metadata": {
    "papermill": {
     "duration": null,
     "end_time": null,
     "exception": null,
     "start_time": null,
     "status": "pending"
    },
    "tags": []
   },
   "outputs": [],
   "source": [
    "for idΩ in range(len(powers))[::3]:\n",
    "    fig, ax = plt.subplots(figsize = (8,5))\n",
    "    cax = ax.pcolormesh(Y[:,idΩ,:],Z[:,idΩ,:],results_power_detuning_velocity_scan[:,idΩ,:])\n",
    "    cbar = fig.colorbar(cax)\n",
    "    cbar.ax.set_ylabel(\"photons [#]\")\n",
    "    ax.set_xlabel(\"vy [m/s]\")\n",
    "    ax.set_ylabel(\"vz [m/s]\")\n",
    "    ax.set_title(f\"Ω = {powers[idΩ]} W\")\n",
    "    ax.grid(True)"
   ]
  },
  {
   "cell_type": "code",
   "execution_count": null,
   "id": "7555a40f-d795-4f5b-b847-1c05c99c836d",
   "metadata": {
    "papermill": {
     "duration": null,
     "end_time": null,
     "exception": null,
     "start_time": null,
     "status": "pending"
    },
    "tags": []
   },
   "outputs": [],
   "source": [
    "idΩ = -1\n",
    "\n",
    "fig, ax = plt.subplots(figsize = (8,5))\n",
    "\n",
    "for idvy, vy in enumerate(transverse_velocities):\n",
    "    if idvy%4 == 0:\n",
    "        ax.plot(Z[idvy,idΩ,:], results_power_detuning_velocity_scan[idvy,idΩ,:], lw = 2,\n",
    "               label = f\"vy = {vy:.2f} m/s\"\n",
    "        )\n",
    "ax.set_xlabel(\"vz [m/s]\")\n",
    "ax.set_ylabel(\"photons [#]\")\n",
    "ax.set_title(f\"Ω = {powers[idΩ]}\")\n",
    "ax.legend(fontsize=14)\n",
    "ax.grid(True)"
   ]
  },
  {
   "cell_type": "code",
   "execution_count": null,
   "id": "6c9e60d8-f391-4b62-a53e-40bdfc33a369",
   "metadata": {
    "papermill": {
     "duration": null,
     "end_time": null,
     "exception": null,
     "start_time": null,
     "status": "pending"
    },
    "tags": []
   },
   "outputs": [],
   "source": [
    "idΩ = -1\n",
    "\n",
    "fig, ax = plt.subplots(figsize = (8,5))\n",
    "\n",
    "for idvz, vz in enumerate(forward_velocities):\n",
    "    if not idvz%4:\n",
    "        ax.plot(Y[:,idΩ,idvz], results_power_detuning_velocity_scan[:,idΩ,idvz], lw = 2,\n",
    "               label = f\"vz = {vz:.0f} m/s\"\n",
    "        )\n",
    "ax.set_xlabel(\"vy [m/s]\")\n",
    "ax.set_ylabel(\"photons [#]\")\n",
    "ax.set_title(f\"Ω = {powers[idΩ]}\")\n",
    "ax.legend(fontsize=14)\n",
    "ax.grid(True)"
   ]
  },
  {
   "cell_type": "code",
   "execution_count": null,
   "id": "67cc9764-247a-4aa2-b320-f3dc585e15ba",
   "metadata": {
    "papermill": {
     "duration": null,
     "end_time": null,
     "exception": null,
     "start_time": null,
     "status": "pending"
    },
    "tags": []
   },
   "outputs": [],
   "source": [
    "idvy = len(transverse_velocities)//2\n",
    "fig, ax = plt.subplots(figsize = (8,5))\n",
    "ax.plot(Z[idvy,idΩ,:], results_power_detuning_velocity_scan[idvy,idΩ,:], lw = 2)\n",
    "ax.set_xlabel(\"vz [m/s]\")\n",
    "ax.set_ylabel(\"photons [#]\")\n",
    "ax.set_title(f\"Ω = {powers[idΩ]} W, vy = {transverse_velocities[idvy]:.1f} m/s\")\n",
    "ax.grid(True)"
   ]
  },
  {
   "cell_type": "markdown",
   "id": "965477d8-6259-4c2d-a4aa-4f68607ed3c0",
   "metadata": {
    "papermill": {
     "duration": null,
     "end_time": null,
     "exception": null,
     "start_time": null,
     "status": "pending"
    },
    "tags": []
   },
   "source": [
    "## Convolutions"
   ]
  },
  {
   "cell_type": "code",
   "execution_count": null,
   "id": "42f9495b-41fa-40d4-83bb-8e943755527d",
   "metadata": {
    "papermill": {
     "duration": null,
     "end_time": null,
     "exception": null,
     "start_time": null,
     "status": "pending"
    },
    "tags": []
   },
   "outputs": [],
   "source": [
    "def gaussian(x, μ, σ):\n",
    "    return np.exp(-(x - μ) ** 2 / (2 * σ ** 2))"
   ]
  },
  {
   "cell_type": "code",
   "execution_count": null,
   "id": "e6579984-9e8f-4ebd-8423-4a99bb81d20d",
   "metadata": {
    "papermill": {
     "duration": null,
     "end_time": null,
     "exception": null,
     "start_time": null,
     "status": "pending"
    },
    "tags": []
   },
   "outputs": [],
   "source": [
    "def generate_convolutions_transverse(data,powers,forward_velocities,μvy,σvy):\n",
    "    X,Y = np.meshgrid(powers, forward_velocities)\n",
    "    conv_transverse = gaussian(\n",
    "        np.arange(len(transverse_velocities)), \n",
    "        (μvy-transverse_velocities.min())/Δvy, \n",
    "        σvy/Δvy\n",
    "    )\n",
    "    conv_transverse /= conv_transverse.sum()\n",
    "    \n",
    "    conv = np.zeros((forward_velocities.size, powers.size))\n",
    "       \n",
    "    for idp, power in enumerate(powers):\n",
    "        conv[:,idp] = data[:,idp,:].T@conv_transverse\n",
    "    return X,Y,conv"
   ]
  },
  {
   "cell_type": "code",
   "execution_count": null,
   "id": "57f384ef-f1fc-454f-88fd-927f8ed76f86",
   "metadata": {
    "papermill": {
     "duration": null,
     "end_time": null,
     "exception": null,
     "start_time": null,
     "status": "pending"
    },
    "tags": []
   },
   "outputs": [],
   "source": [
    "Δvy = round(np.diff(transverse_velocities)[0], 5)\n",
    "Δvz = np.diff(forward_velocities)[0]"
   ]
  },
  {
   "cell_type": "code",
   "execution_count": null,
   "id": "b3224761-b04b-49b9-b4c4-34a0cd134df7",
   "metadata": {
    "papermill": {
     "duration": null,
     "end_time": null,
     "exception": null,
     "start_time": null,
     "status": "pending"
    },
    "tags": []
   },
   "outputs": [],
   "source": [
    "Xp, Yvz, conv = generate_convolutions_transverse(\n",
    "    results_power_detuning_velocity_scan, \n",
    "    powers, \n",
    "    np.unique(Z), \n",
    "    μvy, \n",
    "    σvy\n",
    ")"
   ]
  },
  {
   "cell_type": "code",
   "execution_count": null,
   "id": "6d6472c8-c97e-42cf-a7ca-f141db317b36",
   "metadata": {
    "papermill": {
     "duration": null,
     "end_time": null,
     "exception": null,
     "start_time": null,
     "status": "pending"
    },
    "tags": []
   },
   "outputs": [],
   "source": [
    "fig, ax = plt.subplots(figsize=(8,5))\n",
    "cax = ax.pcolormesh(Xp,Yvz,conv)\n",
    "cbar = fig.colorbar(cax, ax = ax)\n",
    "cbar.ax.set_ylabel(\"photons [#]\")\n",
    "ax.set_xlabel(\"power [W]\")\n",
    "ax.set_ylabel(\"vz [m/s]\")\n",
    "ax.grid(True)"
   ]
  },
  {
   "cell_type": "code",
   "execution_count": null,
   "id": "a0dec3c6-6c80-4af1-8462-6e53e0c2decf",
   "metadata": {
    "papermill": {
     "duration": null,
     "end_time": null,
     "exception": null,
     "start_time": null,
     "status": "pending"
    },
    "tags": []
   },
   "outputs": [],
   "source": [
    "fig, ax = plt.subplots(figsize = (8,5))\n",
    "for idx, Ωi in enumerate(powers):\n",
    "    ax.plot(forward_velocities, conv[:,idx], lw = 2, label = f\"Ω = {Ωi} W\")\n",
    "    \n",
    "ax.legend()\n",
    "ax.set_xlabel(\"vz [m/s]\")\n",
    "ax.set_ylabel(\"photons [#]\")\n",
    "ax.grid(True)"
   ]
  },
  {
   "cell_type": "markdown",
   "id": "6be93aac-f9c4-40e3-a356-3d7d00b85636",
   "metadata": {
    "papermill": {
     "duration": null,
     "end_time": null,
     "exception": null,
     "start_time": null,
     "status": "pending"
    },
    "tags": []
   },
   "source": [
    "## Interpolatation with RectBivariateSpline"
   ]
  },
  {
   "cell_type": "code",
   "execution_count": null,
   "id": "aea7556f-fb9f-41f7-9029-05ce529f747a",
   "metadata": {
    "papermill": {
     "duration": null,
     "end_time": null,
     "exception": null,
     "start_time": null,
     "status": "pending"
    },
    "tags": []
   },
   "outputs": [],
   "source": [
    "from scipy.interpolate import RectBivariateSpline"
   ]
  },
  {
   "cell_type": "code",
   "execution_count": null,
   "id": "630ee50d-a648-45fb-86d0-12371a05fd52",
   "metadata": {
    "papermill": {
     "duration": null,
     "end_time": null,
     "exception": null,
     "start_time": null,
     "status": "pending"
    },
    "tags": []
   },
   "outputs": [],
   "source": [
    "x = np.unique(Xp.flatten())\n",
    "y = np.unique(Yvz.flatten())\n",
    "f_conv = RectBivariateSpline(x,y,conv.T)"
   ]
  },
  {
   "cell_type": "markdown",
   "id": "f50a3c0c-2b2a-45c8-8f46-32641fb72b65",
   "metadata": {
    "papermill": {
     "duration": null,
     "end_time": null,
     "exception": null,
     "start_time": null,
     "status": "pending"
    },
    "tags": []
   },
   "source": [
    "## Noise due to gaussian velocity fluctuations"
   ]
  },
  {
   "cell_type": "code",
   "execution_count": null,
   "id": "c11c3eb4-8ce4-4124-8da2-647c2bbf7be0",
   "metadata": {
    "papermill": {
     "duration": null,
     "end_time": null,
     "exception": null,
     "start_time": null,
     "status": "pending"
    },
    "tags": []
   },
   "outputs": [],
   "source": [
    "rng = np.random.default_rng()\n",
    "\n",
    "velocity = 184 # m/s\n",
    "power = 1 # W\n",
    "\n",
    "results = []\n",
    "for _ in range(10):\n",
    "    velocities = rng.normal(velocity, 16, 1_000_000)        \n",
    "    velocities.sort()\n",
    "    \n",
    "    signal = f_conv(power, velocities).flatten()    \n",
    "    \n",
    "    results.append((signal.mean(), np.std(signal)/np.sqrt(len(signal))))\n",
    "\n",
    "df = pd.DataFrame(\n",
    "    data = {'mean': [r[0] for r in results], 'stdm': [r[1] for r in results]}\n",
    ")"
   ]
  },
  {
   "cell_type": "code",
   "execution_count": null,
   "id": "425603c8-25e8-47a6-b4d9-2b9de6464c28",
   "metadata": {
    "papermill": {
     "duration": null,
     "end_time": null,
     "exception": null,
     "start_time": null,
     "status": "pending"
    },
    "tags": []
   },
   "outputs": [],
   "source": [
    "y = df['mean'].values\n",
    "yerr = df['stdm'].values\n",
    "\n",
    "nσ = 2\n",
    "\n",
    "μwa = np.average(y,weights=1/yerr**2)\n",
    "σwa = np.sqrt(1/np.sum(1/yerr**2))\n",
    "\n",
    "\n",
    "fig, ax = plt.subplots(figsize=(8,5))\n",
    "\n",
    "ax.axhline(μwa, lw = 3, color = 'C0');\n",
    "ax.axhspan(μwa - nσ*σwa, μwa + nσ*σwa, color = 'C0', alpha = 0.3)\n",
    "\n",
    "ax.errorbar(x=np.arange(len(y))+1, y=y,yerr=yerr, fmt = '.', ms = 15, lw = 3, ecolor = 'C3')\n",
    "\n",
    "ax.set_xticks(np.arange(len(y))+1)\n",
    "\n",
    "txt = f\"photons = {μwa:.1e} +/- {σwa:.1e}\"\n",
    "ax.text(\n",
    "    0.95, 0.95, txt, transform=ax.transAxes, ha = 'right', va='top', fontsize = 14,\n",
    "    bbox=dict(facecolor='white', alpha=1)\n",
    ")\n",
    "\n",
    "ax.set_xlabel(\"measurement [#]\")\n",
    "ax.set_ylabel(\"photons\")\n",
    "ax.grid(True)"
   ]
  },
  {
   "cell_type": "code",
   "execution_count": null,
   "id": "60651c93-24de-4c45-b01b-7249b28c4d28",
   "metadata": {
    "papermill": {
     "duration": null,
     "end_time": null,
     "exception": null,
     "start_time": null,
     "status": "pending"
    },
    "tags": []
   },
   "outputs": [],
   "source": [
    "fig, ax = plt.subplots(figsize=(8,5))\n",
    "ax.hist(signal, bins = 21, density=True)\n",
    "\n",
    "ax.set_xlabel(\"photons [#]\");"
   ]
  },
  {
   "cell_type": "code",
   "execution_count": null,
   "id": "dd35f53d-e1ff-468d-8599-1ed2937ac166",
   "metadata": {
    "papermill": {
     "duration": null,
     "end_time": null,
     "exception": null,
     "start_time": null,
     "status": "pending"
    },
    "tags": []
   },
   "outputs": [],
   "source": [
    "fig,ax=plt.subplots(figsize=(8,5))\n",
    "sm.qqplot(signal, ax=ax, line='s')\n",
    "ax.grid(True)"
   ]
  },
  {
   "cell_type": "markdown",
   "id": "ad9a1654-ed5d-4005-970f-6217f1319e7e",
   "metadata": {
    "papermill": {
     "duration": null,
     "end_time": null,
     "exception": null,
     "start_time": null,
     "status": "pending"
    },
    "tags": []
   },
   "source": [
    "## Noise due to gaussian power fluctuations"
   ]
  },
  {
   "cell_type": "code",
   "execution_count": null,
   "id": "74b16de5-69c3-4bd3-a9c3-bfe431433de5",
   "metadata": {
    "papermill": {
     "duration": null,
     "end_time": null,
     "exception": null,
     "start_time": null,
     "status": "pending"
    },
    "tags": []
   },
   "outputs": [],
   "source": [
    "rng = np.random.default_rng()\n",
    "\n",
    "velocity = 184 # m/s\n",
    "power = 1 # W\n",
    "\n",
    "results = []\n",
    "for _ in range(10):\n",
    "    ps = rng.normal(1, 1e-3, 1_000_000)        \n",
    "    ps.sort()\n",
    "    \n",
    "    signal = f_conv(ps, velocity).flatten()    \n",
    "    \n",
    "    results.append((signal.mean(), np.std(signal)/np.sqrt(len(signal))))\n",
    "\n",
    "df = pd.DataFrame(\n",
    "    data = {'mean': [r[0] for r in results], 'stdm': [r[1] for r in results]}\n",
    ")"
   ]
  },
  {
   "cell_type": "code",
   "execution_count": null,
   "id": "af244fbe-9c7e-4b6f-817b-3f2eeb4ca2b7",
   "metadata": {
    "papermill": {
     "duration": null,
     "end_time": null,
     "exception": null,
     "start_time": null,
     "status": "pending"
    },
    "tags": []
   },
   "outputs": [],
   "source": [
    "y = df['mean'].values\n",
    "yerr = df['stdm'].values\n",
    "\n",
    "nσ = 2\n",
    "\n",
    "μwa = np.average(y,weights=1/yerr**2)\n",
    "σwa = np.sqrt(1/np.sum(1/yerr**2))\n",
    "\n",
    "\n",
    "fig, ax = plt.subplots(figsize=(8,5))\n",
    "\n",
    "ax.axhline(μwa, lw = 3, color = 'C0');\n",
    "ax.axhspan(μwa - nσ*σwa, μwa + nσ*σwa, color = 'C0', alpha = 0.3)\n",
    "\n",
    "ax.errorbar(x=np.arange(len(y))+1, y=y,yerr=yerr, fmt = '.', ms = 15, lw = 3, ecolor = 'C3')\n",
    "\n",
    "ax.set_xticks(np.arange(len(y))+1)\n",
    "\n",
    "txt = f\"photons = {μwa:.1e} +/- {σwa:.1e}\"\n",
    "ax.text(\n",
    "    0.95, 0.95, txt, transform=ax.transAxes, ha = 'right', va='top', fontsize = 14,\n",
    "    bbox=dict(facecolor='white', alpha=1)\n",
    ")\n",
    "\n",
    "ax.set_xlabel(\"measurement [#]\")\n",
    "ax.set_ylabel(\"photons\")\n",
    "ax.grid(True)"
   ]
  },
  {
   "cell_type": "code",
   "execution_count": null,
   "id": "295d0827-5afb-46e9-bf81-5a4704418e09",
   "metadata": {
    "papermill": {
     "duration": null,
     "end_time": null,
     "exception": null,
     "start_time": null,
     "status": "pending"
    },
    "tags": []
   },
   "outputs": [],
   "source": [
    "fig, ax = plt.subplots(figsize=(8,5))\n",
    "ax.hist(signal, bins = 21, density=True)\n",
    "\n",
    "ax.set_xlabel(\"photons [#]\");"
   ]
  },
  {
   "cell_type": "code",
   "execution_count": null,
   "id": "d184717f-63ed-4a00-98e0-9934585f27d9",
   "metadata": {
    "papermill": {
     "duration": null,
     "end_time": null,
     "exception": null,
     "start_time": null,
     "status": "pending"
    },
    "tags": []
   },
   "outputs": [],
   "source": [
    "fig,ax=plt.subplots(figsize=(8,5))\n",
    "sm.qqplot(signal, ax=ax, line='s')\n",
    "ax.grid(True)"
   ]
  },
  {
   "cell_type": "code",
   "execution_count": null,
   "id": "5140f7e1-35d6-4777-935c-310b4f07fd50",
   "metadata": {
    "papermill": {
     "duration": null,
     "end_time": null,
     "exception": null,
     "start_time": null,
     "status": "pending"
    },
    "tags": []
   },
   "outputs": [],
   "source": []
  }
 ],
 "metadata": {
  "kernelspec": {
   "display_name": "Python 3 (ipykernel)",
   "language": "python",
   "name": "python3"
  },
  "language_info": {
   "codemirror_mode": {
    "name": "ipython",
    "version": 3
   },
   "file_extension": ".py",
   "mimetype": "text/x-python",
   "name": "python",
   "nbconvert_exporter": "python",
   "pygments_lexer": "ipython3",
   "version": "3.8.13"
  },
  "papermill": {
   "default_parameters": {},
   "duration": null,
   "end_time": null,
   "environment_variables": {},
   "exception": null,
   "input_path": "R_detection_papermill_base.ipynb",
   "output_path": "R2_F1_5_2_F_3_2022_09_20_10_45.ipynb",
   "parameters": {
    "dx": 0.0254,
    "dy": 0.0508,
    "forward_velocities": [
     90,
     94,
     98,
     102,
     106,
     110,
     114,
     118,
     122,
     126,
     130,
     134,
     138,
     142,
     146,
     150,
     154,
     158,
     162,
     166,
     170,
     174,
     178,
     182,
     186,
     190,
     194,
     198,
     202,
     206,
     210,
     214,
     218,
     222,
     226,
     230,
     234,
     238,
     242,
     246,
     250,
     254,
     258,
     262,
     266,
     270,
     274,
     278,
     282,
     286,
     290,
     294,
     298,
     302
    ],
    "initial_state": "states.QuantumSelector(\n    J=2, F1=2.5, F=3, mF=2, electronic=states.ElectronicState.X\n)",
    "now": "2022_09_20_10_45",
    "nprocs": 7,
    "polarizations": "[couplings.polarization_Z, couplings.polarization_X]",
    "powers": [
     0.1,
     0.2,
     0.30000000000000004,
     0.4,
     0.5,
     0.6,
     0.7000000000000001,
     0.8,
     0.9,
     1.0,
     1.1,
     1.2000000000000002,
     1.3000000000000003
    ],
    "transition": "couplings.OpticalTransition(couplings.OpticalTransitionType.R, 2, F1=2.5, F=3)",
    "transverse_velocities": [
     -4.5,
     -4.3,
     -4.1,
     -3.8999999999999995,
     -3.6999999999999993,
     -3.499999999999999,
     -3.299999999999999,
     -3.0999999999999988,
     -2.8999999999999986,
     -2.6999999999999984,
     -2.4999999999999982,
     -2.299999999999998,
     -2.099999999999998,
     -1.8999999999999977,
     -1.6999999999999975,
     -1.4999999999999973,
     -1.2999999999999972,
     -1.099999999999997,
     -0.8999999999999968,
     -0.6999999999999966,
     -0.49999999999999645,
     -0.29999999999999627,
     -0.09999999999999609,
     0.10000000000000409,
     0.30000000000000426,
     0.5000000000000044,
     0.7000000000000046,
     0.9000000000000048,
     1.100000000000005,
     1.3000000000000052,
     1.5000000000000053,
     1.7000000000000055,
     1.9000000000000057,
     2.100000000000006,
     2.300000000000006,
     2.500000000000006,
     2.7000000000000064,
     2.9000000000000066,
     3.1000000000000068,
     3.300000000000007,
     3.500000000000007,
     3.7000000000000064,
     3.9000000000000075,
     4.1000000000000085,
     4.300000000000008,
     4.500000000000007
    ],
    "β": 3.8,
    "ωl": 628318.5307179586,
    "ωp": 980176.9079200155,
    "ωphase": 9801769.079200154
   },
   "start_time": "2022-09-20T16:39:36.278575",
   "version": "2.4.0"
  }
 },
 "nbformat": 4,
 "nbformat_minor": 5
}