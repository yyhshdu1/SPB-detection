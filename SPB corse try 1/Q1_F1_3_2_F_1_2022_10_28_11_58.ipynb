{
 "cells": [
  {
   "cell_type": "code",
   "execution_count": 1,
   "id": "30683bdb-794f-4b5b-8886-acdb4dbecc26",
   "metadata": {
    "execution": {
     "iopub.execute_input": "2022-10-28T16:59:31.929046Z",
     "iopub.status.busy": "2022-10-28T16:59:31.929046Z",
     "iopub.status.idle": "2022-10-28T16:59:36.065404Z",
     "shell.execute_reply": "2022-10-28T16:59:36.065404Z"
    },
    "papermill": {
     "duration": 4.14435,
     "end_time": "2022-10-28T16:59:36.066397",
     "exception": false,
     "start_time": "2022-10-28T16:59:31.922047",
     "status": "completed"
    },
    "tags": []
   },
   "outputs": [],
   "source": [
    "import numpy as np\n",
    "import sympy as smp\n",
    "from centrex_TlF_hamiltonian import states, hamiltonian\n",
    "import centrex_TlF_couplings as couplings\n",
    "import centrex_TlF_lindblad as lindblad\n",
    "import matplotlib.pyplot as plt\n",
    "import scipy.constants as cst\n",
    "from labellines import labelLines\n",
    "import pickle\n",
    "import datetime\n",
    "import pandas as pd\n",
    "import statsmodels.api as sm"
   ]
  },
  {
   "cell_type": "code",
   "execution_count": 2,
   "id": "6464b098-2074-4110-b8b8-14cebdda5434",
   "metadata": {
    "execution": {
     "iopub.execute_input": "2022-10-28T16:59:36.078398Z",
     "iopub.status.busy": "2022-10-28T16:59:36.078398Z",
     "iopub.status.idle": "2022-10-28T16:59:36.081398Z",
     "shell.execute_reply": "2022-10-28T16:59:36.081398Z"
    },
    "papermill": {
     "duration": 0.01,
     "end_time": "2022-10-28T16:59:36.082397",
     "exception": false,
     "start_time": "2022-10-28T16:59:36.072397",
     "status": "completed"
    },
    "tags": []
   },
   "outputs": [],
   "source": [
    "plt.rcParams.update({'font.size': 14})"
   ]
  },
  {
   "cell_type": "markdown",
   "id": "fe8ba123-fc89-410b-9cfc-7fb483147770",
   "metadata": {
    "papermill": {
     "duration": 0.004999,
     "end_time": "2022-10-28T16:59:36.093397",
     "exception": false,
     "start_time": "2022-10-28T16:59:36.088398",
     "status": "completed"
    },
    "tags": []
   },
   "source": [
    "# Setup\n",
    "\n",
    "## Papermill Parameters"
   ]
  },
  {
   "cell_type": "code",
   "execution_count": 3,
   "id": "5326320e-9595-4824-b9a0-e77d09ae9b0c",
   "metadata": {
    "execution": {
     "iopub.execute_input": "2022-10-28T16:59:36.103398Z",
     "iopub.status.busy": "2022-10-28T16:59:36.103398Z",
     "iopub.status.idle": "2022-10-28T16:59:36.113397Z",
     "shell.execute_reply": "2022-10-28T16:59:36.113397Z"
    },
    "papermill": {
     "duration": 0.016996,
     "end_time": "2022-10-28T16:59:36.114398",
     "exception": false,
     "start_time": "2022-10-28T16:59:36.097402",
     "status": "completed"
    },
    "tags": [
     "parameters"
    ]
   },
   "outputs": [],
   "source": [
    "# this cell is tagged parameters\n",
    "transition = 'couplings.OpticalTransition(couplings.OpticalTransitionType.R, 1, F1=1.5, F=2)'\n",
    "\n",
    "polarizations = \"[couplings.polarization_Z, couplings.polarization_X]\"\n",
    "\n",
    "powers = np.linspace(1-2e-3,1+2e-3,4)\n",
    "forward_velocities = np.arange(90, 300+4, 4)\n",
    "transverse_velocities = np.arange(-4.5, 4.5+0.2, 0.2)\n",
    "\n",
    "ωp = 0.1*hamiltonian.Γ\n",
    "ωphase = hamiltonian.Γ\n",
    "β = 3.8\n",
    "ωl = 2*np.pi*100e3\n",
    "\n",
    "dx = 2.54e-2 # dx of laser beam\n",
    "dy = 2*2.54e-2 # dy of laser beam\n",
    "\n",
    "initial_state = \"\"\"states.QuantumSelector(\n",
    "    J=1, F1=3/2, F=2, mF=2, electronic=states.ElectronicState.X\n",
    ")\"\"\"\n",
    "\n",
    "\n",
    "nprocs = 7 # number of processes to use\n",
    "\n",
    "μvy = 0\n",
    "σvy = 1.5\n",
    "\n",
    "now = datetime.datetime.now().strftime('%Y_%m_%d_%H_%M')"
   ]
  },
  {
   "cell_type": "code",
   "execution_count": 4,
   "id": "253afe46",
   "metadata": {
    "execution": {
     "iopub.execute_input": "2022-10-28T16:59:36.125398Z",
     "iopub.status.busy": "2022-10-28T16:59:36.125398Z",
     "iopub.status.idle": "2022-10-28T16:59:36.129398Z",
     "shell.execute_reply": "2022-10-28T16:59:36.129398Z"
    },
    "papermill": {
     "duration": 0.010999,
     "end_time": "2022-10-28T16:59:36.130396",
     "exception": false,
     "start_time": "2022-10-28T16:59:36.119397",
     "status": "completed"
    },
    "tags": [
     "injected-parameters"
    ]
   },
   "outputs": [],
   "source": [
    "# Parameters\n",
    "transition = (\n",
    "    \"couplings.OpticalTransition(couplings.OpticalTransitionType.Q, 1, F1=1.5, F=1)\"\n",
    ")\n",
    "polarizations = \"[couplings.polarization_Z, couplings.polarization_X]\"\n",
    "powers = [0.1, 0.5, 0.9, 1.3000000000000003]\n",
    "forward_velocities = [90, 150, 210, 270]\n",
    "transverse_velocities = [-4.5, -1.5, 1.5, 4.5]\n",
    "ωp = 980176.9079200155\n",
    "ωphase = 9801769.079200154\n",
    "ωl = 628318.5307179586\n",
    "β = 3.8\n",
    "dx = 0.0254\n",
    "dy = 0.0508\n",
    "initial_state = \"states.QuantumSelector(\\n    J=1, F1=1.5, F=2, mF=2, electronic=states.ElectronicState.X\\n)\"\n",
    "σvy = 0.5\n",
    "nprocs = 7\n",
    "now = \"2022_10_28_11_58\"\n"
   ]
  },
  {
   "cell_type": "code",
   "execution_count": 5,
   "id": "f11745b5-2b57-4522-94f3-0e7ed0008919",
   "metadata": {
    "execution": {
     "iopub.execute_input": "2022-10-28T16:59:36.141397Z",
     "iopub.status.busy": "2022-10-28T16:59:36.141397Z",
     "iopub.status.idle": "2022-10-28T16:59:36.144404Z",
     "shell.execute_reply": "2022-10-28T16:59:36.144404Z"
    },
    "papermill": {
     "duration": 0.01,
     "end_time": "2022-10-28T16:59:36.145396",
     "exception": false,
     "start_time": "2022-10-28T16:59:36.135396",
     "status": "completed"
    },
    "tags": []
   },
   "outputs": [],
   "source": [
    "# use eval to transfer the Transitions, QuantumSelectors and numpy arrays\n",
    "transition = eval(transition)\n",
    "polarizations = eval(polarizations)\n",
    "powers = np.asarray(powers)\n",
    "forward_velocities = np.asarray(forward_velocities)\n",
    "transverse_velocities = np.asarray(transverse_velocities)\n",
    "initial_state = eval(initial_state)"
   ]
  },
  {
   "cell_type": "markdown",
   "id": "986dceb3-556c-400c-80fe-d28a141ef679",
   "metadata": {
    "papermill": {
     "duration": 0.005001,
     "end_time": "2022-10-28T16:59:36.155397",
     "exception": false,
     "start_time": "2022-10-28T16:59:36.150396",
     "status": "completed"
    },
    "tags": []
   },
   "source": [
    "## Functions to convert Power to Rabi and vice-versa"
   ]
  },
  {
   "cell_type": "code",
   "execution_count": 6,
   "id": "6b5a008b-6e02-470e-92fe-75a678b0afe4",
   "metadata": {
    "execution": {
     "iopub.execute_input": "2022-10-28T16:59:36.166301Z",
     "iopub.status.busy": "2022-10-28T16:59:36.166301Z",
     "iopub.status.idle": "2022-10-28T16:59:36.176311Z",
     "shell.execute_reply": "2022-10-28T16:59:36.176311Z"
    },
    "papermill": {
     "duration": 0.016829,
     "end_time": "2022-10-28T16:59:36.177301",
     "exception": false,
     "start_time": "2022-10-28T16:59:36.160472",
     "status": "completed"
    },
    "tags": []
   },
   "outputs": [],
   "source": [
    "def power_from_rabi_rectangle(Ω: complex, main_coupling: complex, dx: float, dy: float, D: float = 2.6675506e-30) -> float:\n",
    "    E = Ω*cst.hbar / (main_coupling * D)\n",
    "    intensity = 1/2 * cst.c * cst.epsilon_0 * E ** 2\n",
    "    P = intensity * (dx * dy)\n",
    "    return P.real\n",
    "\n",
    "def rabi_from_power_rectangle(power: float, main_coupling: complex, dx: float, dy: float, D: float = 2.6675506e-30) -> complex:\n",
    "    intensity = power / (dx * dy)\n",
    "    E = np.sqrt(intensity*2 / (cst.c * cst.epsilon_0))\n",
    "    Ω = E * main_coupling * D / cst.hbar\n",
    "    return Ω"
   ]
  },
  {
   "cell_type": "markdown",
   "id": "9917fb56-2012-43e9-bf61-2ea680301913",
   "metadata": {
    "papermill": {
     "duration": 0.005,
     "end_time": "2022-10-28T16:59:36.188302",
     "exception": false,
     "start_time": "2022-10-28T16:59:36.183302",
     "status": "completed"
    },
    "tags": []
   },
   "source": [
    "## Functions to convert transverse velocity to detuning"
   ]
  },
  {
   "cell_type": "code",
   "execution_count": 7,
   "id": "dbfc11c6-246d-436d-a344-5541aa7106e9",
   "metadata": {
    "execution": {
     "iopub.execute_input": "2022-10-28T16:59:36.199301Z",
     "iopub.status.busy": "2022-10-28T16:59:36.199301Z",
     "iopub.status.idle": "2022-10-28T16:59:36.208306Z",
     "shell.execute_reply": "2022-10-28T16:59:36.208306Z"
    },
    "papermill": {
     "duration": 0.017024,
     "end_time": "2022-10-28T16:59:36.209325",
     "exception": false,
     "start_time": "2022-10-28T16:59:36.192301",
     "status": "completed"
    },
    "tags": []
   },
   "outputs": [],
   "source": [
    "def doppler_shift(velocity, frequency):\n",
    "    \"\"\"calculate the doppler shifted frequency\n",
    "    Args:\n",
    "        velocity (float): velocity [m/s]\n",
    "        frequency (float): frequency [Hz]\n",
    "    Returns:\n",
    "        float: doppler shifted frequency in Hz\n",
    "    \"\"\"\n",
    "    return frequency * (1 + velocity / cst.c)\n",
    "\n",
    "\n",
    "def velocity_to_detuning(velocity, frequency=1.103e15, Γ=2*np.pi*1.56e6):\n",
    "    \"\"\"convert velocity to detuning in units of Γ\n",
    "    Args:\n",
    "        velocity (float): velocity [m/s]\n",
    "        frequency (float): frequency [Hz]\n",
    "        Γ (float): Γ [2π⋅Hz]\n",
    "    Returns:\n",
    "        float: detuning in units of Γ\n",
    "    \"\"\"\n",
    "    return (doppler_shift(velocity, frequency) - frequency) * 2 * np.pi / Γ"
   ]
  },
  {
   "cell_type": "markdown",
   "id": "def8b095-8fea-41f8-a4ba-4478b5eba23f",
   "metadata": {
    "papermill": {
     "duration": 0.005,
     "end_time": "2022-10-28T16:59:36.219301",
     "exception": false,
     "start_time": "2022-10-28T16:59:36.214301",
     "status": "completed"
    },
    "tags": []
   },
   "source": [
    "## Function to convert diagonal indices to flattened"
   ]
  },
  {
   "cell_type": "code",
   "execution_count": 8,
   "id": "28387cbc-78e1-4d8e-a9ed-fd1f46abc8a3",
   "metadata": {
    "execution": {
     "iopub.execute_input": "2022-10-28T16:59:36.229827Z",
     "iopub.status.busy": "2022-10-28T16:59:36.229827Z",
     "iopub.status.idle": "2022-10-28T16:59:36.239837Z",
     "shell.execute_reply": "2022-10-28T16:59:36.239837Z"
    },
    "papermill": {
     "duration": 0.016029,
     "end_time": "2022-10-28T16:59:36.240826",
     "exception": false,
     "start_time": "2022-10-28T16:59:36.224797",
     "status": "completed"
    },
    "tags": []
   },
   "outputs": [],
   "source": [
    "def get_diagonal_indices_flattened(size, states = None, mode = 'python'):\n",
    "    if states is None:\n",
    "        indices = [i+size*i for i in range(size)]\n",
    "    else:\n",
    "        indices = [i+size*i for i in states]\n",
    "    if mode == 'julia':\n",
    "        return [i+1 for i in indices]\n",
    "    elif mode == 'python':\n",
    "        return indices"
   ]
  },
  {
   "cell_type": "markdown",
   "id": "a3f240b4-d0f4-49c6-8625-f7a06d0020ae",
   "metadata": {
    "papermill": {
     "duration": 0.004002,
     "end_time": "2022-10-28T16:59:36.250828",
     "exception": false,
     "start_time": "2022-10-28T16:59:36.246826",
     "status": "completed"
    },
    "tags": []
   },
   "source": [
    "## System Parameters"
   ]
  },
  {
   "cell_type": "code",
   "execution_count": 9,
   "id": "736dcbe6-aad5-4659-8cc5-b258e4c856d7",
   "metadata": {
    "execution": {
     "iopub.execute_input": "2022-10-28T16:59:36.261360Z",
     "iopub.status.busy": "2022-10-28T16:59:36.261360Z",
     "iopub.status.idle": "2022-10-28T16:59:36.271365Z",
     "shell.execute_reply": "2022-10-28T16:59:36.271365Z"
    },
    "papermill": {
     "duration": 0.017015,
     "end_time": "2022-10-28T16:59:36.273360",
     "exception": false,
     "start_time": "2022-10-28T16:59:36.256345",
     "status": "completed"
    },
    "tags": []
   },
   "outputs": [],
   "source": [
    "syspars = lindblad.SystemParameters(nprocs = nprocs, Γ=hamiltonian.Γ)"
   ]
  },
  {
   "cell_type": "markdown",
   "id": "5011b5f3-cc7e-4757-97d0-8459799eb101",
   "metadata": {
    "papermill": {
     "duration": 0.005,
     "end_time": "2022-10-28T16:59:36.282364",
     "exception": false,
     "start_time": "2022-10-28T16:59:36.277364",
     "status": "completed"
    },
    "tags": []
   },
   "source": [
    "## Vibrational Decay Channels"
   ]
  },
  {
   "cell_type": "code",
   "execution_count": 10,
   "id": "596675aa-3994-4c12-85cf-38e1ec61d952",
   "metadata": {
    "execution": {
     "iopub.execute_input": "2022-10-28T16:59:36.293959Z",
     "iopub.status.busy": "2022-10-28T16:59:36.293959Z",
     "iopub.status.idle": "2022-10-28T16:59:36.302963Z",
     "shell.execute_reply": "2022-10-28T16:59:36.302963Z"
    },
    "papermill": {
     "duration": 0.016051,
     "end_time": "2022-10-28T16:59:36.303958",
     "exception": false,
     "start_time": "2022-10-28T16:59:36.287907",
     "status": "completed"
    },
    "tags": []
   },
   "outputs": [],
   "source": [
    "decay_channels = [\n",
    "    lindblad.DecayChannel(\n",
    "        ground = 1*states.CoupledBasisState(None, None, None, None, None, None, v = \"other\", P=+1),\n",
    "        excited = transition.qn_select_excited,\n",
    "        branching = 1e-2,\n",
    "        description = \"vibrational decay\"\n",
    "    )\n",
    "]"
   ]
  },
  {
   "cell_type": "markdown",
   "id": "b000c31f-8a83-4ba7-8738-102c3b6a7ea0",
   "metadata": {
    "papermill": {
     "duration": 0.005,
     "end_time": "2022-10-28T16:59:36.314959",
     "exception": false,
     "start_time": "2022-10-28T16:59:36.309959",
     "status": "completed"
    },
    "tags": []
   },
   "source": [
    "## Odepars"
   ]
  },
  {
   "cell_type": "code",
   "execution_count": 11,
   "id": "57402ccf-9aff-49b3-ad15-e9306213ad4c",
   "metadata": {
    "execution": {
     "iopub.execute_input": "2022-10-28T16:59:36.324959Z",
     "iopub.status.busy": "2022-10-28T16:59:36.324959Z",
     "iopub.status.idle": "2022-10-28T16:59:36.334960Z",
     "shell.execute_reply": "2022-10-28T16:59:36.334960Z"
    },
    "papermill": {
     "duration": 0.017001,
     "end_time": "2022-10-28T16:59:36.335959",
     "exception": false,
     "start_time": "2022-10-28T16:59:36.318958",
     "status": "completed"
    },
    "tags": []
   },
   "outputs": [],
   "source": [
    "v_to_Γ = velocity_to_detuning(1)*syspars.Γ\n",
    "\n",
    "odepars = lindblad.odeParameters(\n",
    "    Ω0 = \"Ωl0 * square_wave(t, ωl, 0.) * phase_modulation(t, β, ωphase)\",\n",
    "    Ωl0     = 1*syspars.Γ,    # Rabi frequency of the laser [rad/s]\n",
    "    δ0      = f\"vy*{v_to_Γ}\",              # detuning of the laser [rad/s]\n",
    "\n",
    "    # laser polarization switching\n",
    "    ωp = ωp,           # polarization switching frequency [rad/s]\n",
    "    PZ0 = \"square_wave(t, ωp, 0.)\",\n",
    "    PX0 = f\"square_wave(t, ωp, {np.pi})\",\n",
    "    β = β,\n",
    "    ωphase = ωphase,\n",
    "    ωl = ωl,\n",
    "    \n",
    "    # molecules\n",
    "    y0 = 0,                   # molecule start y position [m]\n",
    "    vz = 184,                 # longitudinal molecular velocity [m/s]\n",
    "    vy = 0,                   # molecule vy [m/s]\n",
    ")"
   ]
  },
  {
   "cell_type": "markdown",
   "id": "63c80282-f1a0-459c-9db1-5178ae30db66",
   "metadata": {
    "papermill": {
     "duration": 0.005995,
     "end_time": "2022-10-28T16:59:36.346958",
     "exception": false,
     "start_time": "2022-10-28T16:59:36.340963",
     "status": "completed"
    },
    "tags": []
   },
   "source": [
    "## Generate the System"
   ]
  },
  {
   "cell_type": "code",
   "execution_count": 12,
   "id": "54012ca6-2e4b-4335-a114-4a8a976d934a",
   "metadata": {
    "execution": {
     "iopub.execute_input": "2022-10-28T16:59:36.357958Z",
     "iopub.status.busy": "2022-10-28T16:59:36.357958Z"
    },
    "papermill": {
     "duration": 14.149766,
     "end_time": "2022-10-28T16:59:50.501724",
     "exception": false,
     "start_time": "2022-10-28T16:59:36.351958",
     "status": "completed"
    },
    "tags": []
   },
   "outputs": [
    {
     "name": "stderr",
     "output_type": "stream",
     "text": [
      "INFO:centrex_TlF_lindblad.utils_setup:generate_OBE_system: 1/6 -> Generating the reduced Hamiltonian\n"
     ]
    },
    {
     "name": "stderr",
     "output_type": "stream",
     "text": [
      "INFO:centrex_TlF_lindblad.utils_setup:generate_OBE_system: 2/6 -> Generating the couplings corresponding to the transitions\n"
     ]
    },
    {
     "name": "stderr",
     "output_type": "stream",
     "text": [
      "INFO:centrex_TlF_lindblad.utils_setup:generate_OBE_system: 3/6 -> Generating the symbolic Hamiltonian\n"
     ]
    },
    {
     "name": "stderr",
     "output_type": "stream",
     "text": [
      "INFO:centrex_TlF_lindblad.utils_setup:generate_OBE_system: 4/6 -> Generating the collapse matrices\n"
     ]
    },
    {
     "name": "stderr",
     "output_type": "stream",
     "text": [
      "INFO:centrex_TlF_lindblad.utils_setup:generate_OBE_system: 5/6 -> Transforming the Hamiltonian and collapse matrices into a symbolic system of equations\n"
     ]
    },
    {
     "name": "stdout",
     "output_type": "stream",
     "text": [
      "Warning: Branching ratio sum > 1, difference = 2.22e-16\n"
     ]
    },
    {
     "name": "stderr",
     "output_type": "stream",
     "text": [
      "INFO:centrex_TlF_lindblad.utils_setup:generate_OBE_system: 6/6 -> Generating Julia code representing the system of equations\n"
     ]
    },
    {
     "name": "stderr",
     "output_type": "stream",
     "text": [
      "INFO:centrex_TlF_lindblad.utils_setup:setup_OBE_system_julia: 1/3 -> Generating the preamble\n"
     ]
    },
    {
     "name": "stderr",
     "output_type": "stream",
     "text": [
      "INFO:centrex_TlF_lindblad.utils_setup:setup_OBE_system_julia: 2/3 -> Initializing Julia on 7 cores\n"
     ]
    }
   ],
   "source": [
    "transition_selectors = couplings.generate_transition_selectors([transition], [polarizations])\n",
    "\n",
    "obe_system = lindblad.setup_OBE_system_julia_transitions(\n",
    "    syspars, odepars, [transition], transition_selectors, verbose=True, full_output=True,\n",
    "    decay_channels = decay_channels\n",
    ")"
   ]
  },
  {
   "cell_type": "markdown",
   "id": "05af1f73-6664-408d-8df7-dbb5ea691b7c",
   "metadata": {
    "papermill": {
     "duration": null,
     "end_time": null,
     "exception": null,
     "start_time": null,
     "status": "completed"
    },
    "tags": []
   },
   "source": [
    "## Calculate Rabi rate for 1 W"
   ]
  },
  {
   "cell_type": "code",
   "execution_count": null,
   "id": "eb02bc1d-f057-4249-986d-a4ecbc016872",
   "metadata": {
    "papermill": {
     "duration": null,
     "end_time": null,
     "exception": null,
     "start_time": null,
     "status": "completed"
    },
    "tags": []
   },
   "outputs": [],
   "source": [
    "rabi_1W = rabi_from_power_rectangle(1, np.abs(obe_system.couplings[0].main_coupling), dx, dy)"
   ]
  },
  {
   "cell_type": "markdown",
   "id": "694e8c5b-48e7-4f1e-8745-5e1e7b3fd401",
   "metadata": {
    "papermill": {
     "duration": null,
     "end_time": null,
     "exception": null,
     "start_time": null,
     "status": "completed"
    },
    "tags": []
   },
   "source": [
    "# Single trajectory run"
   ]
  },
  {
   "cell_type": "code",
   "execution_count": null,
   "id": "6649a1fa-a71e-4d56-823f-05c381288bbd",
   "metadata": {
    "papermill": {
     "duration": null,
     "end_time": null,
     "exception": null,
     "start_time": null,
     "status": "completed"
    },
    "tags": []
   },
   "outputs": [],
   "source": [
    "indices_excited = transition.qn_select_excited.get_indices(obe_system.QN)\n",
    "\n",
    "ρ = states.population.generate_population_states(\n",
    "    initial_state.get_indices(obe_system.QN), \n",
    "    len(obe_system.QN)\n",
    ")\n",
    "\n",
    "df = couplings.generate_br_dataframe(obe_system.ground, obe_system.excited, group_ground='J')\n",
    "\n",
    "obe_system.Ωl0 = rabi_1W\n",
    "\n",
    "result_single = lindblad.do_simulation_single(odepars, (0,200e-6), ρ)\n",
    "\n",
    "fig, ax = plt.subplots(figsize = (8,5)) \n",
    "ax.plot(result_single.t*1e6, result_single.y.T, label = np.arange(len(result_single.y)));\n",
    "ax.set_xlabel('time [μs]')\n",
    "ax.set_ylabel('population')\n",
    "\n",
    "ax.set_title(f'{transition} @ 1W 2\" x 1\"')\n",
    "\n",
    "labelLines(ax.get_lines(), zorder = 2.5, align = False, fontsize = 14)\n",
    "\n",
    "ax.grid(True)\n",
    "\n",
    "print(f\"{transition} => {np.trapz(result_single.y[indices_excited].sum(axis=0), x=result_single.t)*hamiltonian.Γ:.2f} photons\")\n",
    "display(df)"
   ]
  },
  {
   "cell_type": "markdown",
   "id": "28bd9126-4669-430f-b45c-b1c39f90f65f",
   "metadata": {
    "papermill": {
     "duration": null,
     "end_time": null,
     "exception": null,
     "start_time": null,
     "status": "completed"
    },
    "tags": []
   },
   "source": [
    "# Scan Power, Detuning and forward velocity"
   ]
  },
  {
   "cell_type": "code",
   "execution_count": null,
   "id": "161fba7e-2c28-4da8-a0bf-97d8a08904ad",
   "metadata": {
    "papermill": {
     "duration": null,
     "end_time": null,
     "exception": null,
     "start_time": null,
     "status": "completed"
    },
    "tags": []
   },
   "outputs": [],
   "source": [
    "rabi_rates = rabi_from_power_rectangle(powers, np.abs(obe_system.couplings[0].main_coupling), dx, dy)\n",
    "\n",
    "scan_parameters = ['Ωl0','vy','vz']\n",
    "scan_values = [rabi_rates, transverse_velocities, forward_velocities]"
   ]
  },
  {
   "cell_type": "code",
   "execution_count": null,
   "id": "e90ef3c8-8076-4686-9327-672d0b03fd3b",
   "metadata": {
    "papermill": {
     "duration": null,
     "end_time": null,
     "exception": null,
     "start_time": null,
     "status": "completed"
    },
    "tags": []
   },
   "outputs": [],
   "source": [
    "photon_func = lindblad.setup_state_integral_calculation_state_idxs(\n",
    "    nphotons = True\n",
    ")"
   ]
  },
  {
   "cell_type": "code",
   "execution_count": null,
   "id": "66e306e3-6a5c-43ac-b2f7-aaf87993728a",
   "metadata": {
    "papermill": {
     "duration": null,
     "end_time": null,
     "exception": null,
     "start_time": null,
     "status": "completed"
    },
    "tags": []
   },
   "outputs": [],
   "source": [
    "callback = lindblad.setup_discrete_callback_terminate(\n",
    "    odepars,\n",
    "    f\"vz*t > {dx}\"\n",
    ")"
   ]
  },
  {
   "cell_type": "code",
   "execution_count": null,
   "id": "2a288f68-42ed-4c8b-9be8-2d2bbcf92330",
   "metadata": {
    "papermill": {
     "duration": null,
     "end_time": null,
     "exception": null,
     "start_time": null,
     "status": "completed"
    },
    "tags": []
   },
   "outputs": [],
   "source": [
    "ensemble_problem = lindblad.setup_problem_parameter_scan(\n",
    "    odepars,\n",
    "    ρ = ρ,\n",
    "    tspan = (0,1_000e-6),\n",
    "    parameters = scan_parameters,\n",
    "    values = scan_values,\n",
    "    dimensions = 2,\n",
    "    output_func = photon_func,\n",
    ")"
   ]
  },
  {
   "cell_type": "code",
   "execution_count": null,
   "id": "ee699c8b-9384-4c63-831c-0b67b18b8774",
   "metadata": {
    "papermill": {
     "duration": null,
     "end_time": null,
     "exception": null,
     "start_time": null,
     "status": "completed"
    },
    "tags": []
   },
   "outputs": [],
   "source": [
    "%%time\n",
    "lindblad.solve_problem_parameter_scan_progress(\n",
    "    callback = callback,\n",
    "    ensemble_problem_name=ensemble_problem,\n",
    "    output_func=photon_func,\n",
    "    save_idxs = get_diagonal_indices_flattened(len(obe_system.QN), states = indices_excited, mode = 'julia')\n",
    ")"
   ]
  },
  {
   "cell_type": "code",
   "execution_count": null,
   "id": "6f2e2216-fdfa-41cc-b2b5-5ae2f35497c0",
   "metadata": {
    "papermill": {
     "duration": null,
     "end_time": null,
     "exception": null,
     "start_time": null,
     "status": "completed"
    },
    "tags": []
   },
   "outputs": [],
   "source": [
    "results_power_detuning_velocity_scan = lindblad.get_results_parameter_scan()\n",
    "X,Y,Z = np.meshgrid(*scan_values)\n",
    "results_power_detuning_velocity_scan = results_power_detuning_velocity_scan.reshape(Y.T.shape).T"
   ]
  },
  {
   "cell_type": "markdown",
   "id": "d5bd8781-7d5c-4fa3-a1c5-162e022b8086",
   "metadata": {
    "papermill": {
     "duration": null,
     "end_time": null,
     "exception": null,
     "start_time": null,
     "status": "completed"
    },
    "tags": []
   },
   "source": [
    "## Save simulation data"
   ]
  },
  {
   "cell_type": "code",
   "execution_count": null,
   "id": "b83b18a0-0905-498b-8466-60156426374b",
   "metadata": {
    "papermill": {
     "duration": null,
     "end_time": null,
     "exception": null,
     "start_time": null,
     "status": "completed"
    },
    "tags": []
   },
   "outputs": [],
   "source": [
    "transition_name = (\n",
    "    f\"{transition.t.name}{transition.J_ground}_F1_{int(transition.F1*2)}_2_F_{transition.F}\"\n",
    ")\n",
    "\n",
    "fname = f\"{transition_name}_J_init_{initial_state.J}_F1init_{initial_state.F1}_Finit_{initial_state.F}_mFinit_{initial_state.mF}_scan_power_detuning_velocity_with_phase_mod_{now}\"\n",
    "\n",
    "with open(f\"{fname}.pkl\", 'wb') as f:\n",
    "    pickle.dump(\n",
    "        {\n",
    "            'Ωl': X,\n",
    "            'power': power_from_rabi_rectangle(X, np.abs(obe_system.couplings[0].main_coupling), dx, dy),\n",
    "            'vy': Y,\n",
    "            'vz': Z,\n",
    "            'photons': results_power_detuning_velocity_scan,\n",
    "            'main coupling': np.abs(obe_system.couplings[0].main_coupling),\n",
    "            'odepars': str(odepars),\n",
    "            'initial state': str(initial_state),\n",
    "        },\n",
    "        f\n",
    "    )"
   ]
  },
  {
   "cell_type": "code",
   "execution_count": null,
   "id": "374ccc8d-9408-4f22-a052-e494432b7a4a",
   "metadata": {
    "papermill": {
     "duration": null,
     "end_time": null,
     "exception": null,
     "start_time": null,
     "status": "completed"
    },
    "tags": []
   },
   "outputs": [],
   "source": [
    "for idΩ in range(len(powers))[::3]:\n",
    "    fig, ax = plt.subplots(figsize = (8,5))\n",
    "    cax = ax.pcolormesh(Y[:,idΩ,:],Z[:,idΩ,:],results_power_detuning_velocity_scan[:,idΩ,:])\n",
    "    cbar = fig.colorbar(cax)\n",
    "    cbar.ax.set_ylabel(\"photons [#]\")\n",
    "    ax.set_xlabel(\"vy [m/s]\")\n",
    "    ax.set_ylabel(\"vz [m/s]\")\n",
    "    ax.set_title(f\"Ω = {powers[idΩ]} W\")\n",
    "    ax.grid(True)"
   ]
  },
  {
   "cell_type": "code",
   "execution_count": null,
   "id": "7555a40f-d795-4f5b-b847-1c05c99c836d",
   "metadata": {
    "papermill": {
     "duration": null,
     "end_time": null,
     "exception": null,
     "start_time": null,
     "status": "completed"
    },
    "tags": []
   },
   "outputs": [],
   "source": [
    "idΩ = -1\n",
    "\n",
    "fig, ax = plt.subplots(figsize = (8,5))\n",
    "\n",
    "for idvy, vy in enumerate(transverse_velocities):\n",
    "    if idvy%4 == 0:\n",
    "        ax.plot(Z[idvy,idΩ,:], results_power_detuning_velocity_scan[idvy,idΩ,:], lw = 2,\n",
    "               label = f\"vy = {vy:.2f} m/s\"\n",
    "        )\n",
    "ax.set_xlabel(\"vz [m/s]\")\n",
    "ax.set_ylabel(\"photons [#]\")\n",
    "ax.set_title(f\"Ω = {powers[idΩ]}\")\n",
    "ax.legend(fontsize=14)\n",
    "ax.grid(True)"
   ]
  },
  {
   "cell_type": "code",
   "execution_count": null,
   "id": "6c9e60d8-f391-4b62-a53e-40bdfc33a369",
   "metadata": {
    "papermill": {
     "duration": null,
     "end_time": null,
     "exception": null,
     "start_time": null,
     "status": "completed"
    },
    "tags": []
   },
   "outputs": [],
   "source": [
    "idΩ = -1\n",
    "\n",
    "fig, ax = plt.subplots(figsize = (8,5))\n",
    "\n",
    "for idvz, vz in enumerate(forward_velocities):\n",
    "    if not idvz%4:\n",
    "        ax.plot(Y[:,idΩ,idvz], results_power_detuning_velocity_scan[:,idΩ,idvz], lw = 2,\n",
    "               label = f\"vz = {vz:.0f} m/s\"\n",
    "        )\n",
    "ax.set_xlabel(\"vy [m/s]\")\n",
    "ax.set_ylabel(\"photons [#]\")\n",
    "ax.set_title(f\"Ω = {powers[idΩ]}\")\n",
    "ax.legend(fontsize=14)\n",
    "ax.grid(True)"
   ]
  },
  {
   "cell_type": "code",
   "execution_count": null,
   "id": "67cc9764-247a-4aa2-b320-f3dc585e15ba",
   "metadata": {
    "papermill": {
     "duration": null,
     "end_time": null,
     "exception": null,
     "start_time": null,
     "status": "completed"
    },
    "tags": []
   },
   "outputs": [],
   "source": [
    "idvy = len(transverse_velocities)//2\n",
    "fig, ax = plt.subplots(figsize = (8,5))\n",
    "ax.plot(Z[idvy,idΩ,:], results_power_detuning_velocity_scan[idvy,idΩ,:], lw = 2)\n",
    "ax.set_xlabel(\"vz [m/s]\")\n",
    "ax.set_ylabel(\"photons [#]\")\n",
    "ax.set_title(f\"Ω = {powers[idΩ]} W, vy = {transverse_velocities[idvy]:.1f} m/s\")\n",
    "ax.grid(True)"
   ]
  },
  {
   "cell_type": "markdown",
   "id": "965477d8-6259-4c2d-a4aa-4f68607ed3c0",
   "metadata": {
    "papermill": {
     "duration": null,
     "end_time": null,
     "exception": null,
     "start_time": null,
     "status": "completed"
    },
    "tags": []
   },
   "source": [
    "## Convolutions"
   ]
  },
  {
   "cell_type": "code",
   "execution_count": null,
   "id": "42f9495b-41fa-40d4-83bb-8e943755527d",
   "metadata": {
    "papermill": {
     "duration": null,
     "end_time": null,
     "exception": null,
     "start_time": null,
     "status": "completed"
    },
    "tags": []
   },
   "outputs": [],
   "source": [
    "def gaussian(x, μ, σ):\n",
    "    return np.exp(-(x - μ) ** 2 / (2 * σ ** 2))"
   ]
  },
  {
   "cell_type": "code",
   "execution_count": null,
   "id": "e6579984-9e8f-4ebd-8423-4a99bb81d20d",
   "metadata": {
    "papermill": {
     "duration": null,
     "end_time": null,
     "exception": null,
     "start_time": null,
     "status": "completed"
    },
    "tags": []
   },
   "outputs": [],
   "source": [
    "def generate_convolutions_transverse(data,powers,forward_velocities,μvy,σvy):\n",
    "    X,Y = np.meshgrid(powers, forward_velocities)\n",
    "    conv_transverse = gaussian(\n",
    "        np.arange(len(transverse_velocities)), \n",
    "        (μvy-transverse_velocities.min())/Δvy, \n",
    "        σvy/Δvy\n",
    "    )\n",
    "    conv_transverse /= conv_transverse.sum()\n",
    "    \n",
    "    conv = np.zeros((forward_velocities.size, powers.size))\n",
    "       \n",
    "    for idp, power in enumerate(powers):\n",
    "        conv[:,idp] = data[:,idp,:].T@conv_transverse\n",
    "    return X,Y,conv"
   ]
  },
  {
   "cell_type": "code",
   "execution_count": null,
   "id": "57f384ef-f1fc-454f-88fd-927f8ed76f86",
   "metadata": {
    "papermill": {
     "duration": null,
     "end_time": null,
     "exception": null,
     "start_time": null,
     "status": "completed"
    },
    "tags": []
   },
   "outputs": [],
   "source": [
    "Δvy = round(np.diff(transverse_velocities)[0], 5)\n",
    "Δvz = np.diff(forward_velocities)[0]"
   ]
  },
  {
   "cell_type": "code",
   "execution_count": null,
   "id": "b3224761-b04b-49b9-b4c4-34a0cd134df7",
   "metadata": {
    "papermill": {
     "duration": null,
     "end_time": null,
     "exception": null,
     "start_time": null,
     "status": "completed"
    },
    "tags": []
   },
   "outputs": [],
   "source": [
    "Xp, Yvz, conv = generate_convolutions_transverse(\n",
    "    results_power_detuning_velocity_scan, \n",
    "    powers, \n",
    "    np.unique(Z), \n",
    "    μvy, \n",
    "    σvy\n",
    ")"
   ]
  },
  {
   "cell_type": "code",
   "execution_count": null,
   "id": "6d6472c8-c97e-42cf-a7ca-f141db317b36",
   "metadata": {
    "papermill": {
     "duration": null,
     "end_time": null,
     "exception": null,
     "start_time": null,
     "status": "completed"
    },
    "tags": []
   },
   "outputs": [],
   "source": [
    "fig, ax = plt.subplots(figsize=(8,5))\n",
    "cax = ax.pcolormesh(Xp,Yvz,conv)\n",
    "cbar = fig.colorbar(cax, ax = ax)\n",
    "cbar.ax.set_ylabel(\"photons [#]\")\n",
    "ax.set_xlabel(\"power [W]\")\n",
    "ax.set_ylabel(\"vz [m/s]\")\n",
    "ax.grid(True)"
   ]
  },
  {
   "cell_type": "code",
   "execution_count": null,
   "id": "a0dec3c6-6c80-4af1-8462-6e53e0c2decf",
   "metadata": {
    "papermill": {
     "duration": null,
     "end_time": null,
     "exception": null,
     "start_time": null,
     "status": "completed"
    },
    "tags": []
   },
   "outputs": [],
   "source": [
    "fig, ax = plt.subplots(figsize = (8,5))\n",
    "for idx, Ωi in enumerate(powers):\n",
    "    ax.plot(forward_velocities, conv[:,idx], lw = 2, label = f\"Ω = {Ωi} W\")\n",
    "    \n",
    "ax.legend()\n",
    "ax.set_xlabel(\"vz [m/s]\")\n",
    "ax.set_ylabel(\"photons [#]\")\n",
    "ax.grid(True)"
   ]
  },
  {
   "cell_type": "markdown",
   "id": "6be93aac-f9c4-40e3-a356-3d7d00b85636",
   "metadata": {
    "papermill": {
     "duration": null,
     "end_time": null,
     "exception": null,
     "start_time": null,
     "status": "completed"
    },
    "tags": []
   },
   "source": [
    "## Interpolatation with RectBivariateSpline"
   ]
  },
  {
   "cell_type": "code",
   "execution_count": null,
   "id": "aea7556f-fb9f-41f7-9029-05ce529f747a",
   "metadata": {
    "papermill": {
     "duration": null,
     "end_time": null,
     "exception": null,
     "start_time": null,
     "status": "completed"
    },
    "tags": []
   },
   "outputs": [],
   "source": [
    "from scipy.interpolate import RectBivariateSpline"
   ]
  },
  {
   "cell_type": "code",
   "execution_count": null,
   "id": "630ee50d-a648-45fb-86d0-12371a05fd52",
   "metadata": {
    "papermill": {
     "duration": null,
     "end_time": null,
     "exception": null,
     "start_time": null,
     "status": "completed"
    },
    "tags": []
   },
   "outputs": [],
   "source": [
    "x = np.unique(Xp.flatten())\n",
    "y = np.unique(Yvz.flatten())\n",
    "f_conv = RectBivariateSpline(x,y,conv.T)"
   ]
  },
  {
   "cell_type": "markdown",
   "id": "f50a3c0c-2b2a-45c8-8f46-32641fb72b65",
   "metadata": {
    "papermill": {
     "duration": null,
     "end_time": null,
     "exception": null,
     "start_time": null,
     "status": "completed"
    },
    "tags": []
   },
   "source": [
    "## Noise due to gaussian velocity fluctuations"
   ]
  },
  {
   "cell_type": "code",
   "execution_count": null,
   "id": "c11c3eb4-8ce4-4124-8da2-647c2bbf7be0",
   "metadata": {
    "papermill": {
     "duration": null,
     "end_time": null,
     "exception": null,
     "start_time": null,
     "status": "completed"
    },
    "tags": []
   },
   "outputs": [],
   "source": [
    "rng = np.random.default_rng()\n",
    "\n",
    "velocity = 184 # m/s\n",
    "power = 1 # W\n",
    "\n",
    "results = []\n",
    "for _ in range(10):\n",
    "    velocities = rng.normal(velocity, 16, 1_000_000)        \n",
    "    velocities.sort()\n",
    "    \n",
    "    signal = f_conv(power, velocities).flatten()    \n",
    "    \n",
    "    results.append((signal.mean(), np.std(signal)/np.sqrt(len(signal))))\n",
    "\n",
    "df = pd.DataFrame(\n",
    "    data = {'mean': [r[0] for r in results], 'stdm': [r[1] for r in results]}\n",
    ")"
   ]
  },
  {
   "cell_type": "code",
   "execution_count": null,
   "id": "425603c8-25e8-47a6-b4d9-2b9de6464c28",
   "metadata": {
    "papermill": {
     "duration": null,
     "end_time": null,
     "exception": null,
     "start_time": null,
     "status": "completed"
    },
    "tags": []
   },
   "outputs": [],
   "source": [
    "y = df['mean'].values\n",
    "yerr = df['stdm'].values\n",
    "\n",
    "nσ = 2\n",
    "\n",
    "μwa = np.average(y,weights=1/yerr**2)\n",
    "σwa = np.sqrt(1/np.sum(1/yerr**2))\n",
    "\n",
    "\n",
    "fig, ax = plt.subplots(figsize=(8,5))\n",
    "\n",
    "ax.axhline(μwa, lw = 3, color = 'C0');\n",
    "ax.axhspan(μwa - nσ*σwa, μwa + nσ*σwa, color = 'C0', alpha = 0.3)\n",
    "\n",
    "ax.errorbar(x=np.arange(len(y))+1, y=y,yerr=yerr, fmt = '.', ms = 15, lw = 3, ecolor = 'C3')\n",
    "\n",
    "ax.set_xticks(np.arange(len(y))+1)\n",
    "\n",
    "txt = f\"photons = {μwa:.1e} +/- {σwa:.1e}\"\n",
    "ax.text(\n",
    "    0.95, 0.95, txt, transform=ax.transAxes, ha = 'right', va='top', fontsize = 14,\n",
    "    bbox=dict(facecolor='white', alpha=1)\n",
    ")\n",
    "\n",
    "ax.set_xlabel(\"measurement [#]\")\n",
    "ax.set_ylabel(\"photons\")\n",
    "ax.grid(True)"
   ]
  },
  {
   "cell_type": "code",
   "execution_count": null,
   "id": "60651c93-24de-4c45-b01b-7249b28c4d28",
   "metadata": {
    "papermill": {
     "duration": null,
     "end_time": null,
     "exception": null,
     "start_time": null,
     "status": "completed"
    },
    "tags": []
   },
   "outputs": [],
   "source": [
    "fig, ax = plt.subplots(figsize=(8,5))\n",
    "ax.hist(signal, bins = 21, density=True)\n",
    "\n",
    "ax.set_xlabel(\"photons [#]\");"
   ]
  },
  {
   "cell_type": "code",
   "execution_count": null,
   "id": "dd35f53d-e1ff-468d-8599-1ed2937ac166",
   "metadata": {
    "papermill": {
     "duration": null,
     "end_time": null,
     "exception": null,
     "start_time": null,
     "status": "completed"
    },
    "tags": []
   },
   "outputs": [],
   "source": [
    "fig,ax=plt.subplots(figsize=(8,5))\n",
    "sm.qqplot(signal, ax=ax, line='s')\n",
    "ax.grid(True)"
   ]
  },
  {
   "cell_type": "markdown",
   "id": "ad9a1654-ed5d-4005-970f-6217f1319e7e",
   "metadata": {
    "papermill": {
     "duration": null,
     "end_time": null,
     "exception": null,
     "start_time": null,
     "status": "completed"
    },
    "tags": []
   },
   "source": [
    "## Noise due to gaussian power fluctuations"
   ]
  },
  {
   "cell_type": "code",
   "execution_count": null,
   "id": "74b16de5-69c3-4bd3-a9c3-bfe431433de5",
   "metadata": {
    "papermill": {
     "duration": null,
     "end_time": null,
     "exception": null,
     "start_time": null,
     "status": "completed"
    },
    "tags": []
   },
   "outputs": [],
   "source": [
    "rng = np.random.default_rng()\n",
    "\n",
    "velocity = 184 # m/s\n",
    "power = 1 # W\n",
    "\n",
    "results = []\n",
    "for _ in range(10):\n",
    "    ps = rng.normal(1, 1e-3, 1_000_000)        \n",
    "    ps.sort()\n",
    "    \n",
    "    signal = f_conv(ps, velocity).flatten()    \n",
    "    \n",
    "    results.append((signal.mean(), np.std(signal)/np.sqrt(len(signal))))\n",
    "\n",
    "df = pd.DataFrame(\n",
    "    data = {'mean': [r[0] for r in results], 'stdm': [r[1] for r in results]}\n",
    ")"
   ]
  },
  {
   "cell_type": "code",
   "execution_count": null,
   "id": "af244fbe-9c7e-4b6f-817b-3f2eeb4ca2b7",
   "metadata": {
    "papermill": {
     "duration": null,
     "end_time": null,
     "exception": null,
     "start_time": null,
     "status": "completed"
    },
    "tags": []
   },
   "outputs": [],
   "source": [
    "y = df['mean'].values\n",
    "yerr = df['stdm'].values\n",
    "\n",
    "nσ = 2\n",
    "\n",
    "μwa = np.average(y,weights=1/yerr**2)\n",
    "σwa = np.sqrt(1/np.sum(1/yerr**2))\n",
    "\n",
    "\n",
    "fig, ax = plt.subplots(figsize=(8,5))\n",
    "\n",
    "ax.axhline(μwa, lw = 3, color = 'C0');\n",
    "ax.axhspan(μwa - nσ*σwa, μwa + nσ*σwa, color = 'C0', alpha = 0.3)\n",
    "\n",
    "ax.errorbar(x=np.arange(len(y))+1, y=y,yerr=yerr, fmt = '.', ms = 15, lw = 3, ecolor = 'C3')\n",
    "\n",
    "ax.set_xticks(np.arange(len(y))+1)\n",
    "\n",
    "txt = f\"photons = {μwa:.1e} +/- {σwa:.1e}\"\n",
    "ax.text(\n",
    "    0.95, 0.95, txt, transform=ax.transAxes, ha = 'right', va='top', fontsize = 14,\n",
    "    bbox=dict(facecolor='white', alpha=1)\n",
    ")\n",
    "\n",
    "ax.set_xlabel(\"measurement [#]\")\n",
    "ax.set_ylabel(\"photons\")\n",
    "ax.grid(True)"
   ]
  },
  {
   "cell_type": "code",
   "execution_count": null,
   "id": "295d0827-5afb-46e9-bf81-5a4704418e09",
   "metadata": {
    "papermill": {
     "duration": null,
     "end_time": null,
     "exception": null,
     "start_time": null,
     "status": "completed"
    },
    "tags": []
   },
   "outputs": [],
   "source": [
    "fig, ax = plt.subplots(figsize=(8,5))\n",
    "ax.hist(signal, bins = 21, density=True)\n",
    "\n",
    "ax.set_xlabel(\"photons [#]\");"
   ]
  },
  {
   "cell_type": "code",
   "execution_count": null,
   "id": "d184717f-63ed-4a00-98e0-9934585f27d9",
   "metadata": {
    "papermill": {
     "duration": null,
     "end_time": null,
     "exception": null,
     "start_time": null,
     "status": "completed"
    },
    "tags": []
   },
   "outputs": [],
   "source": [
    "fig,ax=plt.subplots(figsize=(8,5))\n",
    "sm.qqplot(signal, ax=ax, line='s')\n",
    "ax.grid(True)"
   ]
  },
  {
   "cell_type": "code",
   "execution_count": null,
   "id": "5140f7e1-35d6-4777-935c-310b4f07fd50",
   "metadata": {
    "papermill": {
     "duration": null,
     "end_time": null,
     "exception": null,
     "start_time": null,
     "status": "completed"
    },
    "tags": []
   },
   "outputs": [],
   "source": []
  }
 ],
 "metadata": {
  "kernelspec": {
   "display_name": "Python 3.10.6 ('[SPB]')",
   "language": "python",
   "name": "python3"
  },
  "language_info": {
   "codemirror_mode": {
    "name": "ipython",
    "version": 3
   },
   "file_extension": ".py",
   "mimetype": "text/x-python",
   "name": "python",
   "nbconvert_exporter": "python",
   "pygments_lexer": "ipython3",
   "version": "3.10.6"
  },
  "papermill": {
   "default_parameters": {},
   "duration": 22.495512,
   "end_time": "2022-10-28T16:59:53.135694",
   "environment_variables": {},
   "exception": null,
   "input_path": "R_detection_papermill_base.ipynb",
   "output_path": "Q1_F1_3_2_F_1_2022_10_28_11_58.ipynb",
   "parameters": {
    "dx": 0.0254,
    "dy": 0.0508,
    "forward_velocities": [
     90,
     150,
     210,
     270
    ],
    "initial_state": "states.QuantumSelector(\n    J=1, F1=1.5, F=2, mF=2, electronic=states.ElectronicState.X\n)",
    "now": "2022_10_28_11_58",
    "nprocs": 7,
    "polarizations": "[couplings.polarization_Z, couplings.polarization_X]",
    "powers": [
     0.1,
     0.5,
     0.9,
     1.3000000000000003
    ],
    "transition": "couplings.OpticalTransition(couplings.OpticalTransitionType.Q, 1, F1=1.5, F=1)",
    "transverse_velocities": [
     -4.5,
     -1.5,
     1.5,
     4.5
    ],
    "β": 3.8,
    "σvy": 0.5,
    "ωl": 628318.5307179586,
    "ωp": 980176.9079200155,
    "ωphase": 9801769.079200154
   },
   "start_time": "2022-10-28T16:59:30.640182",
   "version": "2.4.0"
  },
  "vscode": {
   "interpreter": {
    "hash": "610203a45414974695becb8b8ccaddea29a7fb0613d3167b3c6cad0511e05eb9"
   }
  }
 },
 "nbformat": 4,
 "nbformat_minor": 5
}