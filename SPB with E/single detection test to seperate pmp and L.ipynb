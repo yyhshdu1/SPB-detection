{
 "cells": [
  {
   "cell_type": "code",
   "execution_count": 317,
   "id": "30683bdb-794f-4b5b-8886-acdb4dbecc26",
   "metadata": {},
   "outputs": [],
   "source": [
    "import numpy as np\n",
    "import sympy as smp\n",
    "from centrex_tlf_hamiltonian import states, hamiltonian\n",
    "import centrex_tlf_couplings as couplings\n",
    "import centrex_TlF_lindblad as lindblad\n",
    "import matplotlib.pyplot as plt\n",
    "import scipy.constants as cst\n",
    "from labellines import labelLines\n",
    "import pickle\n",
    "import datetime\n",
    "import pandas as pd\n",
    "import statsmodels.api as sm"
   ]
  },
  {
   "cell_type": "code",
   "execution_count": 318,
   "id": "6464b098-2074-4110-b8b8-14cebdda5434",
   "metadata": {},
   "outputs": [],
   "source": [
    "plt.rcParams.update({'font.size': 14})"
   ]
  },
  {
   "cell_type": "markdown",
   "id": "fe8ba123-fc89-410b-9cfc-7fb483147770",
   "metadata": {},
   "source": [
    "# Setup\n",
    "\n",
    "## Papermill Parameters"
   ]
  },
  {
   "cell_type": "code",
   "execution_count": 319,
   "id": "5326320e-9595-4824-b9a0-e77d09ae9b0c",
   "metadata": {
    "tags": [
     "parameters"
    ]
   },
   "outputs": [],
   "source": [
    "# this cell is tagged parameters\n",
    "# transition label : 'couplings.OpticalTransition(couplings.OpticalTransitionType.Q/R/..., J_ground, F1_excited, F_excited)'\n",
    "\n",
    "#transition = 'couplings.OpticalTransition(couplings.OpticalTransitionType.R, 1, F1=1.5, F=2)'\n",
    "transition = 'couplings.transition.OpticalTransition(couplings.transition.OpticalTransitionType.R, 1, F1=3/2, F=1)'\n",
    "#transition = 'couplings.transition.OpticalTransition(couplings.transition.OpticalTransitionType.Q, 1, F1=1/2, F=1)'\n",
    "\n",
    "# polarizations = \"[couplings.polarization_Z, couplings.polarization_X]\"\n",
    "#only consider σp polarization light\n",
    "#polarizations = \"[couplings.polarization_Z]\"\n",
    "polarizations = \"[couplings.polarization_σp, couplings.polarization_σm]\"\n",
    "# polarizations = \"[couplings.polarization_σp]\"\n",
    "\n",
    "powers = np.linspace(1-2e-3,1+2e-3,4)\n",
    "forward_velocities = np.arange(90, 300+4, 4)\n",
    "transverse_velocities = np.arange(-4.5, 4.5+0.2, 0.2)\n",
    "\n",
    "ωp = 0.1*hamiltonian.Γ\n",
    "ωphase = hamiltonian.Γ\n",
    "β = 3.8\n",
    "ωl = 2*np.pi*100e3\n",
    "\n",
    "dx = 2.54e-2 # dx of laser beam\n",
    "dy = 2*2.54e-2 # dy of laser beam\n",
    "\n",
    "initial_state = '''states.QuantumSelector(\n",
    "    J=1, F1=3/2, F=1, mF=1, electronic=states.ElectronicState.X\n",
    ")'''\n",
    "\n",
    "nprocs = 7 # number of processes to use\n",
    "\n",
    "μvy = 0\n",
    "σvy = 1.5\n",
    "\n",
    "now = datetime.datetime.now().strftime('%Y_%m_%d_%H_%M')"
   ]
  },
  {
   "cell_type": "code",
   "execution_count": 320,
   "id": "f11745b5-2b57-4522-94f3-0e7ed0008919",
   "metadata": {},
   "outputs": [],
   "source": [
    "# use eval to transfer the Transitions, QuantumSelectors and numpy arrays\n",
    "transition = eval(transition)\n",
    "polarizations = eval(polarizations)\n",
    "powers = np.asarray(powers)\n",
    "forward_velocities = np.asarray(forward_velocities)\n",
    "transverse_velocities = np.asarray(transverse_velocities)\n",
    "initial_state = eval(initial_state)"
   ]
  },
  {
   "cell_type": "markdown",
   "id": "986dceb3-556c-400c-80fe-d28a141ef679",
   "metadata": {},
   "source": [
    "## Functions to convert Power to Rabi and vice-versa"
   ]
  },
  {
   "cell_type": "code",
   "execution_count": 321,
   "id": "6b5a008b-6e02-470e-92fe-75a678b0afe4",
   "metadata": {},
   "outputs": [],
   "source": [
    "def power_from_rabi_rectangle(Ω: complex, main_coupling: complex, dx: float, dy: float, D: float = 2.6675506e-30) -> float:\n",
    "    E = Ω*cst.hbar / (main_coupling * D)\n",
    "    intensity = 1/2 * cst.c * cst.epsilon_0 * E ** 2\n",
    "    P = intensity * (dx * dy)\n",
    "    return P.real\n",
    "\n",
    "def rabi_from_power_rectangle(power: float, main_coupling: complex, dx: float, dy: float, D: float = 2.6675506e-30) -> complex:\n",
    "    intensity = power / (dx * dy)\n",
    "    E = np.sqrt(intensity*2 / (cst.c * cst.epsilon_0))\n",
    "    Ω = E * main_coupling * D / cst.hbar\n",
    "    return Ω"
   ]
  },
  {
   "cell_type": "markdown",
   "id": "9917fb56-2012-43e9-bf61-2ea680301913",
   "metadata": {},
   "source": [
    "## Functions to convert transverse velocity to detuning"
   ]
  },
  {
   "cell_type": "code",
   "execution_count": 322,
   "id": "dbfc11c6-246d-436d-a344-5541aa7106e9",
   "metadata": {},
   "outputs": [],
   "source": [
    "def doppler_shift(velocity, frequency):\n",
    "    \"\"\"calculate the doppler shifted frequency\n",
    "    Args:\n",
    "        velocity (float): velocity [m/s]\n",
    "        frequency (float): frequency [Hz]\n",
    "    Returns:\n",
    "        float: doppler shifted frequency in Hz\n",
    "    \"\"\"\n",
    "    return frequency * (1 + velocity / cst.c)\n",
    "\n",
    "\n",
    "def velocity_to_detuning(velocity, frequency=1.103e15, Γ=2*np.pi*1.56e6):\n",
    "    \"\"\"convert velocity to detuning in units of Γ\n",
    "    Args:\n",
    "        velocity (float): velocity [m/s]\n",
    "        frequency (float): frequency [Hz]\n",
    "        Γ (float): Γ [2π⋅Hz]\n",
    "    Returns:\n",
    "        float: detuning in units of Γ\n",
    "    \"\"\"\n",
    "    return (doppler_shift(velocity, frequency) - frequency) * 2 * np.pi / Γ"
   ]
  },
  {
   "cell_type": "markdown",
   "id": "def8b095-8fea-41f8-a4ba-4478b5eba23f",
   "metadata": {},
   "source": [
    "## Function to convert diagonal indices to flattened"
   ]
  },
  {
   "cell_type": "code",
   "execution_count": 323,
   "id": "28387cbc-78e1-4d8e-a9ed-fd1f46abc8a3",
   "metadata": {},
   "outputs": [],
   "source": [
    "def get_diagonal_indices_flattened(size, states = None, mode = 'python'):\n",
    "    if states is None:\n",
    "        indices = [i+size*i for i in range(size)]\n",
    "    else:\n",
    "        indices = [i+size*i for i in states]\n",
    "    if mode == 'julia':\n",
    "        return [i+1 for i in indices]\n",
    "    elif mode == 'python':\n",
    "        return indices"
   ]
  },
  {
   "cell_type": "markdown",
   "id": "a3f240b4-d0f4-49c6-8625-f7a06d0020ae",
   "metadata": {},
   "source": [
    "## System Parameters"
   ]
  },
  {
   "cell_type": "code",
   "execution_count": 324,
   "id": "736dcbe6-aad5-4659-8cc5-b258e4c856d7",
   "metadata": {},
   "outputs": [],
   "source": [
    "syspars = lindblad.SystemParameters(nprocs = nprocs, Γ=hamiltonian.Γ)"
   ]
  },
  {
   "cell_type": "markdown",
   "id": "5011b5f3-cc7e-4757-97d0-8459799eb101",
   "metadata": {},
   "source": [
    "## Vibrational Decay Channels"
   ]
  },
  {
   "cell_type": "code",
   "execution_count": 325,
   "id": "596675aa-3994-4c12-85cf-38e1ec61d952",
   "metadata": {},
   "outputs": [],
   "source": [
    "decay_channels = [\n",
    "    lindblad.DecayChannel(\n",
    "        ground = 1*states.CoupledBasisState(None, None, None, None, None, None, v = \"other\",P=+1),\n",
    "        excited = transition.qn_select_excited,\n",
    "        branching = 1e-2,\n",
    "        description = \"vibrational decay\"\n",
    "    )\n",
    "]"
   ]
  },
  {
   "cell_type": "markdown",
   "id": "b000c31f-8a83-4ba7-8738-102c3b6a7ea0",
   "metadata": {},
   "source": [
    "## Odepars"
   ]
  },
  {
   "cell_type": "code",
   "execution_count": 326,
   "id": "57402ccf-9aff-49b3-ad15-e9306213ad4c",
   "metadata": {},
   "outputs": [],
   "source": [
    "v_to_Γ = velocity_to_detuning(1)*syspars.Γ\n",
    "\n",
    "odepars = lindblad.odeParameters(\n",
    "    Ω0 = \"Ωl0 * phase_modulation(t, β, ωphase)\",\n",
    "    Ωl0     = 1*syspars.Γ,    # Rabi frequency of the laser [rad/s]\n",
    "    δ0      = f\"vy*{v_to_Γ}\",              # detuning of the laser [rad/s]\n",
    "\n",
    "    #laser polarization switching\n",
    "    ωp = ωp,           # polarization switching frequency [rad/s]\n",
    "    Pσp0 = \"square_wave(t, ωp, 0.)\",\n",
    "    Pσm0 = f\"square_wave(t, ωp, {np.pi})\",\n",
    "    β = β,\n",
    "    ωphase = ωphase,\n",
    "    ωl = ωl,\n",
    "    \n",
    "    # # laser without polarization switching\n",
    "    # Pσp0 = 1,\n",
    "    # β = β,\n",
    "    # ωphase = ωphase,\n",
    "    # ωl = ωl,\n",
    "\n",
    "    # molecules\n",
    "    y0 = 0,                   # molecule start y position [m]\n",
    "    vz = 184,                 # longitudinal molecular velocity [m/s]\n",
    "    vy = 0,                   # molecule vy [m/s]\n",
    ")"
   ]
  },
  {
   "cell_type": "code",
   "execution_count": 327,
   "id": "9eefbb3a",
   "metadata": {},
   "outputs": [],
   "source": [
    "1*syspars.Γ\n",
    "Ωl0     = 2387702,"
   ]
  },
  {
   "cell_type": "markdown",
   "id": "63c80282-f1a0-459c-9db1-5178ae30db66",
   "metadata": {},
   "source": [
    "## Generate the System"
   ]
  },
  {
   "cell_type": "code",
   "execution_count": 328,
   "id": "54012ca6-2e4b-4335-a114-4a8a976d934a",
   "metadata": {},
   "outputs": [],
   "source": [
    "\n",
    "# transition_selectors = couplings.generate_transition_selectors([transition], [polarizations], ground_mains = [1*states.CoupledBasisState(F=1, mF=1, F1 = 1/2, J = 1, I1 = 1/2, I2 = 1/2, Omega = 0, P = -1,electronic_state= states.ElectronicState.X)],\n",
    "# excited_mains = [1*states.CoupledBasisState(F=1, mF=-1, F1 = 1/2, J = 1, I1 = 1/2, I2 = 1/2, Omega = 1, P = 1, electronic_state= states.ElectronicState.B)])\n",
    "#transition_selectors = couplings.generate_transition_selectors([transition], [polarizations])\n",
    "transition_selectors = couplings.generate_transition_selectors([transition], [polarizations], ground_mains = [1*states.CoupledBasisState(F=1, mF=0, F1 = 1/2, J = 1, I1 = 1/2, I2 = 1/2, Omega = 0, P = -1,electronic_state= states.ElectronicState.X)],\n",
    "excited_mains = [1*states.CoupledBasisState(F=1, mF=1, F1 = 3/2, J = 2, I1 = 1/2, I2 = 1/2, Omega = 1, P = 1, electronic_state= states.ElectronicState.B)])"
   ]
  },
  {
   "cell_type": "code",
   "execution_count": 329,
   "id": "d02f7255",
   "metadata": {},
   "outputs": [
    {
     "data": {
      "text/plain": [
       "1.00 x |B, J = 2, F₁ = 3/2, F = 1, mF = 1, I₁ = 1/2, I₂ = 1/2, P = +, Ω = 1>"
      ]
     },
     "execution_count": 329,
     "metadata": {},
     "output_type": "execute_result"
    }
   ],
   "source": [
    "transition_selectors[0].excited_main"
   ]
  },
  {
   "cell_type": "code",
   "execution_count": 330,
   "id": "0a6d643a",
   "metadata": {},
   "outputs": [
    {
     "name": "stderr",
     "output_type": "stream",
     "text": [
      "INFO:centrex_TlF_lindblad.utils_setup:generate_OBE_system: 1/6 -> Generating the reduced Hamiltonian\n",
      "INFO:centrex_TlF_lindblad.utils_setup:generate_OBE_system: 2/6 -> Generating the couplings corresponding to the transitions\n",
      "INFO:centrex_TlF_lindblad.utils_setup:generate_OBE_system: 3/6 -> Generating the symbolic Hamiltonian\n",
      "INFO:centrex_TlF_lindblad.utils_setup:generate_OBE_system: 4/6 -> Generating the collapse matrices\n",
      "INFO:centrex_TlF_lindblad.utils_setup:generate_OBE_system: 5/6 -> Transforming the Hamiltonian and collapse matrices into a symbolic system of equations\n",
      "INFO:centrex_TlF_lindblad.utils_setup:generate_OBE_system: 6/6 -> Generating Julia code representing the system of equations\n",
      "INFO:centrex_TlF_lindblad.utils_setup:setup_OBE_system_julia: 1/3 -> Generating the preamble\n",
      "INFO:centrex_TlF_lindblad.utils_setup:setup_OBE_system_julia: 2/3 -> Initializing Julia on 7 cores\n",
      "INFO:centrex_TlF_lindblad.utils_setup:setup_OBE_system_julia: 3/3 -> Defining the ODE equation and parameters in Julia\n"
     ]
    },
    {
     "name": "stdout",
     "output_type": "stream",
     "text": [
      "Initialized Julia with 7 processes\n"
     ]
    }
   ],
   "source": [
    "# obe_system = lindblad.setup_OBE_system_julia_transitions(\n",
    "#     odepars, [transition], transition_selectors, verbose=True, full_output=True,\n",
    "#     decay_channels = decay_channels, E=np.array([0,0,200])\n",
    "# )\n",
    "obe_system = lindblad.setup_OBE_system_julia_transitions(\n",
    "    odepars, [transition], transition_selectors, verbose=True, full_output=True,\n",
    "    decay_channels = decay_channels, E=np.array([0,0,100]), n_procs = nprocs, qn_compact = True\n",
    ")"
   ]
  },
  {
   "cell_type": "code",
   "execution_count": 331,
   "id": "676bc323",
   "metadata": {},
   "outputs": [
    {
     "data": {
      "text/plain": [
       "0.87-0.00j x |X, J = 1, F₁ = 1/2, F = 0, mF = 0, I₁ = 1/2, I₂ = 1/2, P = -, Ω = 0>\n",
       "0.50-0.00j x |X, J = 1, F₁ = 3/2, F = 2, mF = 0, I₁ = 1/2, I₂ = 1/2, P = -, Ω = 0>\n",
       "0.00-0.00j x |X, J = 2, F₁ = 3/2, F = 1, mF = 0, I₁ = 1/2, I₂ = 1/2, P = +, Ω = 0>\n",
       "0.00-0.00j x |X, J = 2, F₁ = 5/2, F = 3, mF = 0, I₁ = 1/2, I₂ = 1/2, P = +, Ω = 0>"
      ]
     },
     "execution_count": 331,
     "metadata": {},
     "output_type": "execute_result"
    }
   ],
   "source": [
    "obe_system.QN[1]"
   ]
  },
  {
   "cell_type": "code",
   "execution_count": 332,
   "id": "ffa2e93d",
   "metadata": {},
   "outputs": [
    {
     "data": {
      "text/plain": [
       "array([-1.13247203626594, 1.59154943091895e-7*δ0 + 0.00031256130269988,\n",
       "       1.59154943091895e-7*δ0 + 0.023116954066939, 1.59154943091895e-7*δ0,\n",
       "       1.59154943091895e-7*δ0 + 0.0231169379076222,\n",
       "       1.59154943091895e-7*δ0 + 0.13973587049461,\n",
       "       1.59154943091895e-7*δ0 + 1.11674437633592,\n",
       "       1.59154943091895e-7*δ0 + 0.139735884885971,\n",
       "       1.59154943091895e-7*δ0 + 0.151280334952401,\n",
       "       1.59154943091895e-7*δ0 + 1.10517204148125,\n",
       "       1.59154943091895e-7*δ0 + 1.1087315612456,\n",
       "       1.59154943091895e-7*δ0 + 1.10517197694113,\n",
       "       1.59154943091895e-7*δ0 + 0.151280269363157, 40003.9851001374,\n",
       "       80008.1319912663, 0, 1.16388269125913e-5, -42.3762810222721, 0],\n",
       "      dtype=object)"
      ]
     },
     "execution_count": 332,
     "metadata": {},
     "output_type": "execute_result"
    }
   ],
   "source": [
    "np.diag(obe_system.H_symbolic)/(2*np.pi*1e6)"
   ]
  },
  {
   "cell_type": "markdown",
   "id": "05af1f73-6664-408d-8df7-dbb5ea691b7c",
   "metadata": {},
   "source": [
    "## Calculate Rabi rate for 1 W"
   ]
  },
  {
   "cell_type": "code",
   "execution_count": 333,
   "id": "eb02bc1d-f057-4249-986d-a4ecbc016872",
   "metadata": {},
   "outputs": [
    {
     "name": "stdout",
     "output_type": "stream",
     "text": [
      "2063142.2430441547\n"
     ]
    }
   ],
   "source": [
    "rabi_1W = rabi_from_power_rectangle(0.5, np.abs(obe_system.couplings[0].main_coupling), dx, dy)\n",
    "print(rabi_1W)"
   ]
  },
  {
   "cell_type": "markdown",
   "id": "694e8c5b-48e7-4f1e-8745-5e1e7b3fd401",
   "metadata": {},
   "source": [
    "# Single trajectory run"
   ]
  },
  {
   "cell_type": "code",
   "execution_count": 334,
   "id": "6649a1fa-a71e-4d56-823f-05c381288bbd",
   "metadata": {},
   "outputs": [
    {
     "name": "stdout",
     "output_type": "stream",
     "text": [
      "OpticalTransition(R(1) F1'=3/2 F'=1) => 0.01 photons\n"
     ]
    },
    {
     "data": {
      "text/html": [
       "<div>\n",
       "<style scoped>\n",
       "    .dataframe tbody tr th:only-of-type {\n",
       "        vertical-align: middle;\n",
       "    }\n",
       "\n",
       "    .dataframe tbody tr th {\n",
       "        vertical-align: top;\n",
       "    }\n",
       "\n",
       "    .dataframe thead th {\n",
       "        text-align: right;\n",
       "    }\n",
       "</style>\n",
       "<table border=\"1\" class=\"dataframe\">\n",
       "  <thead>\n",
       "    <tr style=\"text-align: right;\">\n",
       "      <th></th>\n",
       "      <th>|B, J = 2, F₁ = 3/2, F = 1&gt;</th>\n",
       "    </tr>\n",
       "    <tr>\n",
       "      <th>states</th>\n",
       "      <th></th>\n",
       "    </tr>\n",
       "  </thead>\n",
       "  <tbody>\n",
       "    <tr>\n",
       "      <th>|X, J = 0&gt;</th>\n",
       "      <td>0.051125</td>\n",
       "    </tr>\n",
       "    <tr>\n",
       "      <th>|X, J = 1&gt;</th>\n",
       "      <td>0.507004</td>\n",
       "    </tr>\n",
       "    <tr>\n",
       "      <th>|X, J = 2&gt;</th>\n",
       "      <td>0.234024</td>\n",
       "    </tr>\n",
       "    <tr>\n",
       "      <th>|X, J = 3&gt;</th>\n",
       "      <td>0.207847</td>\n",
       "    </tr>\n",
       "  </tbody>\n",
       "</table>\n",
       "</div>"
      ],
      "text/plain": [
       "            |B, J = 2, F₁ = 3/2, F = 1>\n",
       "states                                 \n",
       "|X, J = 0>                     0.051125\n",
       "|X, J = 1>                     0.507004\n",
       "|X, J = 2>                     0.234024\n",
       "|X, J = 3>                     0.207847"
      ]
     },
     "metadata": {},
     "output_type": "display_data"
    },
    {
     "data": {
      "image/png": "[encoded data removed]",
      "text/plain": [
       "<Figure size 800x500 with 1 Axes>"
      ]
     },
     "metadata": {},
     "output_type": "display_data"
    }
   ],
   "source": [
    "indices_excited = transition.qn_select_excited.get_indices(obe_system.QN)\n",
    "\n",
    "ρ = states.population.generate_population_states(\n",
    "    initial_state.get_indices(obe_system.QN), \n",
    "    len(obe_system.QN)\n",
    ")\n",
    "\n",
    "df = couplings.generate_br_dataframe(obe_system.ground, obe_system.excited, group_ground='J')\n",
    "\n",
    "odepars.Ωl0 = rabi_1W\n",
    "\n",
    "problem = lindblad.OBEProblem(\n",
    "    odepars,ρ, (0.0,dx/odepars.vz)\n",
    "    )\n",
    "\n",
    "result_single = lindblad.do_simulation_single(problem)\n",
    "\n",
    "fig, ax = plt.subplots(figsize = (8,5)) \n",
    "ax.plot(result_single.t*1e6, result_single.y.T, label = np.arange(len(result_single.y)));\n",
    "ax.set_xlabel('time [μs]')\n",
    "ax.set_ylabel('population')\n",
    "\n",
    "ax.set_title(f'{transition} @ 1W 2\" x 1\"')\n",
    "\n",
    "labelLines(ax.get_lines(), zorder = 2.5, align = False, fontsize = 14)\n",
    "\n",
    "ax.grid(True)\n",
    "\n",
    "print(f\"{transition} => {np.trapz(result_single.y[indices_excited].sum(axis=0), x=result_single.t)*hamiltonian.Γ:.2f} photons\")\n",
    "display(df)"
   ]
  },
  {
   "cell_type": "code",
   "execution_count": null,
   "id": "491908cf",
   "metadata": {},
   "outputs": [],
   "source": []
  },
  {
   "cell_type": "code",
   "execution_count": null,
   "id": "2079612c",
   "metadata": {},
   "outputs": [],
   "source": []
  }
 ],
 "metadata": {
  "kernelspec": {
   "display_name": "Python 3.10.6 ('[SPB]')",
   "language": "python",
   "name": "python3"
  },
  "language_info": {
   "codemirror_mode": {
    "name": "ipython",
    "version": 3
   },
   "file_extension": ".py",
   "mimetype": "text/x-python",
   "name": "python",
   "nbconvert_exporter": "python",
   "pygments_lexer": "ipython3",
   "version": "3.10.6 | packaged by conda-forge | (main, Oct  7 2022, 20:14:50) [MSC v.1916 64 bit (AMD64)]"
  },
  "vscode": {
   "interpreter": {
    "hash": "610203a45414974695becb8b8ccaddea29a7fb0613d3167b3c6cad0511e05eb9"
   }
  }
 },
 "nbformat": 4,
 "nbformat_minor": 5
}
